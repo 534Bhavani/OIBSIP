{
  "nbformat": 4,
  "nbformat_minor": 0,
  "metadata": {
    "colab": {
      "provenance": [],
      "authorship_tag": "ABX9TyObJuIcSqR2lnCxbp6DGCUr",
      "include_colab_link": true
    },
    "kernelspec": {
      "name": "python3",
      "display_name": "Python 3"
    },
    "language_info": {
      "name": "python"
    }
  },
  "cells": [
    {
      "cell_type": "markdown",
      "metadata": {
        "id": "view-in-github",
        "colab_type": "text"
      },
      "source": [
        "<a href=\"https://colab.research.google.com/github/534Bhavani/OIBSIP/blob/main/OIBSIPTASK_5.ipynb\" target=\"_parent\"><img src=\"https://colab.research.google.com/assets/colab-badge.svg\" alt=\"Open In Colab\"/></a>"
      ]
    },
    {
      "cell_type": "markdown",
      "source": [
        "**NAME : TANGIRALA BHAVANI**\n",
        "\n",
        "**DATASCIENCE_@OASIS INFOBYE**\n",
        "\n",
        "**TASK 5:**\n",
        "\n",
        "**PROJECT NAME_@SALES PREDICTION USING PYTHON**"
      ],
      "metadata": {
        "id": "WWp2iX4BWEaw"
      }
    },
    {
      "cell_type": "markdown",
      "source": [
        "![sales.jpg](data:image/jpeg;base64,/9j/4AAQSkZJRgABAQAAAQABAAD/2wCEAAkGBw0PDw8NDw0PDw0OEA8PDw8PDxAQDg0QFREXFxURFRUZHCggGBolGxcYITEhKCkrLi4uFx8zRDMvNyotMCsBCgoKDg0OGhAQGi0gHSUvLS8rLSsrLSstLS0tKy0tKystKy0tKy0rLS0rKystLS0tKy0tLS0tLS0rLS0rLSstLf/AABEIAI4BYgMBIgACEQEDEQH/xAAcAAACAgMBAQAAAAAAAAAAAAAAAQIGAwQFBwj/xABHEAACAgIABAQCBQYKCQUBAAABAgADBBEFEiExBhNBURQiBzJhkaEzUnFygZIWIzRCU1RzsdHTJENik7LBwtLwRIKUo7MV/8QAGgEAAwEBAQEAAAAAAAAAAAAAAAECAwQFBv/EAC0RAAICAQIDBgcBAQEAAAAAAAABAhEDITEEEkETUWGRofAicYGxwdHhMvEU/9oADAMBAAIRAxEAPwDzISNjeki1ntMc74xPop5OiHCEcsxFCOEQBFHCIBxQhAYQjjgAoSUUQwhJRQAI4QiAIQkoDIwjhAAjhCFgEUccLAjCSiisAjQ6O4ajlDRsQmOtvSZIHSnasjFJyMBCijhGIUUcIyQIihGYCFIyUIxEYo44ySEIQkga8IQjMgjhHEBGOEIhhCOOACjjhqA6DUJ7BlcI4Y/DLXxuHqvmYqcmQKkby77K1eqvnc8+yzINgEDm0SOuvH9zk4bilmT0arv8THDmWS9KocJ6L9F/C8a2nJe7D+LLOAF8qu01V1qCzjmI9bANLtjrsdSreM6sVM+9MRFTHXywgQsVO0Ulhv7SY4cQpZZY6enXp4+oRzKWRwrbqcOEcc6DcjHCSisCMcCR7iHMPcQGOE71PhLNY1gCoedWbE3Z/NHL36d/nEQ8J5pSuweWfMtNKgWdeYc+yemgAUI777dJPMjJ5oLqcKE2OI4VmPa9FmvMrIDcpJXqoYaOh6ETXjNFqrHCEIx0LUlqEIxhCEUAGJmRtzBAGKxxlRsQkFff6ZKUb2nsKElIxiFCOKAhQjhAkUUeoRiIwjMgTFZL0HuEUJAjE6aG5CMsTCWjOVXoEUIQAI4SUACTor53VOZV52VeZ25UXZ1zM3oB6mQjiGemcd+j3Gpw08q5jnIrWu/K7V3qNc2woIqQejnQ9z12PNb6XRmrdWRkYq6MNMrA9QR6HcuvgbxUtbDCzbHGNYi0izmAVawSVptJG/K2zdQRrmIO17a30kcZw8zL3jVqfLBS3IH/AKkjtodiq60G7n9AE87h55oZOyyXLd30/wCPat09NtuPC8kZ8k7fj7+xafB/iXhVOBj/ABVla5FW0KBXdzykqj8ig9fL5RzHroa3PLcnkDuKySgdhWSNEpzHlJH6NSEU6MPDxxSlJN6+mt6ebN8eBY5Np7nqPgTjfCK8KrHybUTIDXM/mK6j53Py+YBogqE2N6Op5txLI86+67sLbbLAD05QzEgfZ0Mwzb4Pm/DZFN/lpb5Lh/KsHyPr+4+oPoQDoycfDrFOWSNtvo39dO63XkKOFQlKa1bLx4G8H19MjiFLMrcipUy/xdZt6IbuuwTsaGtDYJIJAFY8Z8Iow8yzHouFtY0dd3qJP5Jj2JHv9vXrLd4w8dY1tVZw/M+JtRTZYWsr8kK2wjoDy2OG2QTsLvY7zzYtsnZJPck9ST7mY8Ks05vLkbV6cvvb59bfTfPh1klLtJtrw9+38t4yUUmikkKASzEAAAksSdAADuZ3HYej/Q9wrHy2urvVmRRY4C221/N/EjZKMN9Cfvmx9MXB8bETHXHRkWwuzhrbbNlSoB+djr6x7e81Po0zruGm2y3By25+dQoouBG/KIP1e3ymbH0l8Ut4mlPlYGWpqLAqaLiW5iDsaX05fxmV/Hd6Hn0//RfSzaxn0/Dh+djWD/66j/yml55XBzGG+bCz7rNDvpMoXEftViP2wGUwfhxFGXy0pYt/+hZXyboAH8zr8wA6bmHFuI//AKdT42Z5WUztSRh5O38ysq3Tk6aIHfXeKLS6mWWLcU0raafqcb6RsYC+nIX6t1XLv0JQ9/3WH3Sp6ly4v59/D8ag4Wacqnl3/ol3KAoKdWI67XR6blSyKLK25LK3rcaPLYjI2j2OiNzSDTR6OF/DRjjhCaGoQi3CKwCKOEQCikoQAjJrZ+2KKAJtGYMDJTBAMfeVzGiyd5nkZDnMOeFoOdE4SPOYcxj5hcyHIlvaKEBNgTEYQiJFCEIgMEUISzMI4SUACEI4ijZ4ZhPkXVY9f17rErXpvRY65j9g7/snpHiP6OcReZsay9PLr860NyW1VVA65jzMG9CdDmPyt07A+YIxBDAkMDsEHRB9wZYeHeM86ooXsGQia0mTz2bAIIBYEM3UAgMSARvU4+Ix5pSUscqS6d/np4anPmhlbTg9uhr+IvCmZw7l89UKOSqWV2BkdgNkaOmH7QJxpYfGXil+J2Uu1QqWqtlCBufbs22cHQ7gL0+yV6a4O07Ndr/rqaYufkXPuPUNTLj0mx0rGtuwUb7DZ7yy1eHkQMNrYXXlZrFG6z+dWB2P7fQdY55FE0KrHOpxrhPw/KyuWRyQObXOp1v06GcqVFqStDM2JjWXWJTWvNZawRF2q8zE6A2SBLnh/R1cp5spylaIbrlxuS16qgdFmZiB7n5Q/RT66BpNVrIy2I3K6MrI3qrKdg/eJc+P/SJkZOhVjVUaBXnPM9pB1zL6LyEgbVgwOh7Tm4jt3KKx7O72tfX9Loc+ZZrSht1I/SJ4Up4ecZ8cP5VitW5duY+ap3sn/aU9h0+QymTb4hxLJyW58i+y1vQ2OWC/qjsv7JqTXBCcMajN2+80xRlGCUnbMvxFn57/AL7f4w+Is/Pf99v8ZihNaNKRl+Is/pH/AH2/xh8RZ/SP++3+MxQhQUjIMiz+kf8Afb/GRZiTskk+5JJkY4D0HCKKFgOEUcAFCOEQChHCAChHCACjhHABQ1JaijCghCEYwgYQjQBFGYoCFCEIhmvHFHLMgjjjiGEICEQxxxSUQHofDVwbuCZDJj1i6rHZL2WpRb5qLtbCxHXsG3v3nnksHhRkbzamVSdrYAeoIHTt26HXX/bnL4vjGq+xNdCTYn2q53+B2P2TlwtRySh9TXsHHGsl2n6D4R/KKf7QS8SlcDtVblUoGNhRVY96iLFYsPtIUr+hj+26xZ/9GRwvFv5Kr+0/6Gmrw/wpm5FYtrTmU6+rVlWa2oYbNdTLvlZTrfqJ0fEtqrUOatX5yyLzf6tip1YOnca/GekfRk6rw4sxCqpqZmJ0FAwsckk+0IyaikvH8GOfK8cbRTPBnhpsfIu+LqDE0fKHqtCKpcc3MLUXvoa1voG7evO4z4TyMi97sXEanGfl8pPhc1Nryj5+VaSBs9f0ETqcSt+JuuyFr3ZkuQoBZLHViEprJGiNqEBHuTPW8SopXXWXLtWiIzk7ZyF1zH7TrcyhJynKSfh76egcUsnDcjlVyVtdVtp+PozwP+A3Ef6Jv/j5/wDkSN3griCDmasgbA605iDZIAHM1IA2SBskDrPQPF+dffdlV41l91OPjs1tdbiuqt0DBzsFecdhok7KvofKZb+Ppy4bL+acdfuuQTeTnFXzfb9HMuLm2lR82iEBHOg9EUcIQA63hLDxb87Gpy7fKxnc+a5YIAAjFVLH6oZgF39s730h+HBjW0DH4d8PTazpVZXlWZVeUdjk1zdUbXp676b1KvwnO+GuS/yKbuTmHlXobKXDKVPMuxvoTO9keN7Xtw2GHjV4+BY1tGLUrrT5h687HeyQ3zekzd2YzU+0TW1d/wDfuvIsfjHwPiY/DTZj1t8dg/DfHPzWstosQczKCSoAYg9B0AMr3HuC49XCOF5ddfLkZLXi9+ew+YFYhflJ5R29AJlH0j8RZsrzyl+PkpdW2PZ0qqWw/wAwjr0G1Gz6zDj+NWXBr4dZw/DurpS1Krbqy9tZsLEuu+isObuPYRJSW5nCOaKV663v0rXyZYuI+FsOvg1GbVw+uy2zCF12S+bfW9NhVdWLTsrZ1JOug6SCeFMJ+EV5OJiDPyjjtZk2pmlLsS/kB5RSPlcKd/L0J5fXc4GV40a3CqwbOH4lnkY/w9OQ9ZbIpHKBzoT9VugPT2iw/G1tFBqowsKm5qPhmyq6WGQ1OgOp5tFjoHmO+3aKpEdnmrxvv6ef29Su8PrV7qUYbV7a1YbI2pcAjY+yereLfBXDaMbiFgwThrjJW2Jk/GPb8ZYy7NflOx5dN8vud7E8mxrTW6WAAmt0cA9iVIIH4Tf8R8ZfPy7cyxESy7k2qb5V5K1Qa317L+MqStm84SlNNOl/Uem4HgvhLYOJfdh+XVbgLkZGf8ZYnkXFE1qpm0eYsx7aGta6icrwT4WxMnhgym4fXmZPxNlR83NvxFFQUHupI2D6a9e/ScbG+kLKrTHp+HoeinDOC9L85ryK+VQGcb+sOX0/Ob3mvwfxp8NinCbh2JkUee+Qq5SNaEZug0D7Dpvv1MjllRh2eblfzXX531/P2N/gGBwyvg7cSy8A5VgzfhzrJvoIrNanoFOiR17jrvvOtg+B8FONLhur34V+GcupHd0srBOgrMhBOip/YR3lZ8PeM3w8X4P4LFyavOOQPiEZ+WzQAIXt01HheOMxM9uKWCu2962q5W5lqRDrSqAegGvxJ7ynGWtFzx5W5U++tfL5UdTgfD+G4XC6eK5uI2dbl3WVU08/JVUqM6kn038jHfXuOg6mT8C4nCc/Ly8ezhxasjIyaGOTcjU0qVC0FUbR+t9bc5Hh7xk+LQcK7Ex87D5vMWnIG/Kf3U6PTuda9T7ma/CfFduLnZGfVTTzXrevknmFVS2OG0utdtACPlepU8eR89XfR83joq6aHT4fw7AysDjGcmH5DUfDnGTz7bPhw2gw2SOffU/MD3nXy6+EcHow67+Grn35WPXkX3O/yojdxVsEdOutcvYbPWUzhviC3HxMzBWtGrzfK53bm505Dscuuk6nDfHeRVRTj24uJmLi/wAmbKoNlmNrWgpBGwND7eg69BBxYTxzbfVXtdaVpr89fUs9Pgjhw44MNq2sw7sM5SVNZarVEsQELKwY6Kk9T2I7zV/gNi11cUyCPPxBgnL4Zkh7AB8rnTcpAZl+UEHfoddSJW+H+Nc2rPfijhLr7Easq+xWqnWlUKegAHQf85DhHjHLxsLJ4aAlmPkpYg8zm5qPMUq5TR9d712319TFyz7yHjz1/rov776lcMIQmx2gYozDUZJGEcIUM14xFJSjNCkoCEQDjijiGEex7xTt+GLqkN3mAnYr1pS3q2+zr/zi+RGSfJG/f5OZg5fk2LaNHlPUbHzKe4/89dS2Z2JVmVKyuN65qrR11vuD9nuPsmf43E/Nb/dN/nTDZl0LtquYE90Neq7D7sTYxU+mwP2HQnNnwTk1KCakvfvp3mnDcfCNwyr4X9a9+Gu1FWuw8ilxtHDKQVZAWGwehBAlr4bmvZUr2eWrnYINioeh1sq2iN63695nwy1y+YLHRSzKqqtXQKxGySDskg/hNj4Z/wCsW/u0/wDZIl2k0rST+v6KnPh09JS8k/yim8ZyLrbWBVilbMqCtHasgHXODr5t67+0uHDM6/4JcMr5dLeW1gP5S4rRUnlkfzU3WSR3boDobDM4z/1i392j/sjxMHLvQMqoq8zKzs5DWcrFTyhd8oOj12CPxkZFk5VFJI0xz4NPmm261Sa6/RvbxpG1wy5KnGSy85qLCivr/H5PYHp1KV8wJ1/OZAPm6Torw7iKq3EEyt5OQuMWqrKrkFMizy6yzHaeo0CNLpuU7XbOhcpLK7VxeHiypVSs6yNIq75QF5tdOZjvW9sT3M214lxYEsBieYVqRrNW87rWSQD1115m3oD6x+zWmNckVFI8risk+IyvJKvBXsvf5OhwfhYxaRWltdmU1HEdqoJx73WytAG5joCvSJo/nP8AaT2fEn8ms/Wp/wD3SVK3L4k1b1eVghbFvQkLbzgXktboknWyd+3Qe0yZnFOKWoUsXD8slGbl81W0rhtBjsDt30YpW7MFDVO17Z4qISKnoI51nrhCEIgCOEIAEIQgARwhEAQhGIwFHqOEKGkEI4RjFCOKAChCEBBFHFAAgBCZkYag2VGKb1dGGBjY9TEZZIoQhEBryUUcZmhiMRQiGMRxCI9oMRIb9jOtwLinwpsJqZ/MCDoUGuXm91PvOTY52RvoPaLZ9z95mTle4TSejLd/Csf1d/3qf8uH8Kx/V3/eq/y5Udn3P3mGz7n7zFp3L1/Zn2MPH39D0HhGT5tIt5eXne06JBI/jG9gB+E5HEM+4W3KtjBa+ugwUBevQfKfzT98j4b4xUlSY7c/mBmC6Utz8zFvT9Ji4uVNlzKpXmoUtzAqSd2ddfdEmrolQat1p3/073DLGalGY7Yg7PTZ0xG/wlHzSwuu1za863sSB9cy4XcTox0HMtiIDyqPLbv1OvwMouTbzu7jYDu7gb7czE6/GCknsXCLi3zJoyoWJALOoJALbY8o31Oh1OpZauIYQVVK1MQACxrt2xA7n+LlS2fc/eYdfc/eY2ypRT7/AE/RuZZ07cjMyEkgjnUDfXl0dHp2mElz0PMR7Ekg/jMPX3P3mLZ9z95hZaS91+jNo/mmRkUYgjqe47ncyep/SY0xkY4QlAEIQgARwhEARwhAYpKISUoaCEIRAEIRQAIQhGAoQhAAjhCACgYREywCImOR1AkISWopNAYI5GSlEIcIQiGED2jERgwYrPrH9n9wjhZ9Y/8AnoJETEHuSk8eou6Vg6LsF37bPeY5tcL/AC9X66xdBHcxeBrW62LaxZDsbUa3DihYvbzEE+QvZeX1s+0zpVDE0xvFXOGbZtC/V38ui3prXb7fWYbqOHuWK5FdYKhWFT0hSOvU9D16nrIjHVSbJeV8rhrQ+I4b5ChHsACtzDlTR3oj1J95wuLcKFAVg5YMeU7ABB1uWhDw09B8IfXQFZnD4/vya++vNfl3vfJ83L36/V1HDHyUkaPI8km5XficCIxxGavYAijmZMS5gGWm1lPYrW5B/QQJAjAO4/SP75m9T+kyYwcjY/0e7uP9VZ7/AKJN8S5eZjTaFGySanAA9ydRoakjBCEJYwjjAmQVfbChqLexijgRrpCABHCEQCElEJLUpJsaFFCEACEUyVp6mAJNsxwmZgJhMBtUEUIRkktxRQJjQWBMUI17wFuAWElFLSKFCEIhGtJSImxyjQgZpWYZISMajfSIYQMzeV9sxONdJNpjlBx3JKoNgUnSl1BPsDoEywP4YCgsXYKOpYvWAB771K5YdFj7f4S24+jcaUHLkU6sZmIagBgvVK9AA/MOwU9/mPrkY5G09DWXwwCA3O3KevNz1ka996nG4eAMmsA7At0D7jfQyw36W5qGG8nl87mBAxyACeY161zdPUE/7UrfCvy1P66xPYUG2Wfi/wDJ7v1DK9wv6l/6g/ueWLjH8nt/UMrvDPqX/qD+55GHY0kbnhc/xrf2Z/4lm54o/J1/2n/SZz/DH5V/7M/8Szc8Ufk6/wC0/wCkw5vjRdleJhFHLEEvHAbLBjUgVAjl6HzAN9T6alIlv4Jfb8PUFZAAvTaEnufXmjM8itHVe275V5OTmsqQtzqxUPYqkga6nRnUyfD4sRq2ybeVwVOlqB0f/bOF5trNUrMvKb8cHlVlb8snY83SW/4Jfz7v9/d/3RNnPO4srLeA8UAn4jI6Anp5ZP8Awyu8V4PjV4q5VFlzbvWkrb5RHWsvsFOh9PX3HpPRbMZFDHmu+UFvy9voN/nSn+KLfMw1Yh1dcpEIN1lidcc2bHN9jgdvQwTbHDJJzSbKasyqZhj3NU9Dvi6JWHZiigBED1dhGBGBHKS7wCEIpQA0jETDcixWOZq26a9pghAqMuVmZpiJiLGEoUpWENxQgSOKEUAHFCRjEZOYSJaRhHY3JsluKEIhH//Z)"
      ],
      "metadata": {
        "id": "7UefuUQidkb8"
      }
    },
    {
      "cell_type": "markdown",
      "source": [
        "# INFO :"
      ],
      "metadata": {
        "id": "OEL9O1QGYqi2"
      }
    },
    {
      "cell_type": "markdown",
      "source": [
        "1.Sales prediction using machine learning is a process that uses algorithms to analyze historical sales data and predict future sales.\n",
        "\n",
        "2.Machine learning uses techniques like regression analysis, time-series analysis, and decision trees to generate more accurate forecasts based on multiple factors.\n",
        "\n",
        "3.Machine learning can help businesses make informed decisions about inventory management, resource allocation, and overall sales strategy.\n",
        "\n",
        "4.It can also help monitor market trends and create targeted marketing campaigns.\n",
        "\n",
        "5.Machine learning uses neural networks, which are a machine learning algorithm that identify various patterns in historical data.\n",
        "\n",
        "6.Machine learning can analyze huge data sets, so its predictions are much more accurate than those performed by humans."
      ],
      "metadata": {
        "id": "xG4kHEcGYs7I"
      }
    },
    {
      "cell_type": "markdown",
      "source": [
        "# ACCURACY\n",
        "\n",
        "**According to Entrepreneur, businesses using predictive analytics could forecast future revenue with 82% accuracy.**"
      ],
      "metadata": {
        "id": "QQXHDlclZAcc"
      }
    },
    {
      "cell_type": "markdown",
      "source": [
        "# Key steps to predict the SALES :"
      ],
      "metadata": {
        "id": "ScM2oSr1ZYcU"
      }
    },
    {
      "cell_type": "markdown",
      "source": [
        "**1.Data preprocessing**\n",
        "\n",
        "**2.Model training**\n",
        "\n",
        "**3.Accuracy evaluation**\n",
        "\n",
        "**4.Backend API creation using Flask**\n",
        "\n",
        "**5.Frontend application development using React and Bootstrap**\n",
        "\n",
        "**6.Deployment process to platforms like Heroku and Netlify**"
      ],
      "metadata": {
        "id": "a8q0jVz6Ziem"
      }
    },
    {
      "cell_type": "markdown",
      "source": [
        "# PROBLEM STATEMENT"
      ],
      "metadata": {
        "id": "Q7I2c65lYOJu"
      }
    },
    {
      "cell_type": "markdown",
      "source": [
        "**Sales prediction** means predicting how much of a product people will buy based on factors such as the\n",
        "amount you spend to advertise your product, the segment of people you advertise for, or the platform\n",
        "you are advertising on about your product.Typically, a product and service-based business always need\n",
        "their Data Scientist to predict their **future** sales with every step they take to manipulate the cost of\n",
        "advertising their product. So lets start the task of sales prediction with **machine learning using Python**.\n"
      ],
      "metadata": {
        "id": "JuPSOyojYQ1q"
      }
    },
    {
      "cell_type": "markdown",
      "source": [
        "# Approach"
      ],
      "metadata": {
        "id": "UPX7BPfGZ8ys"
      }
    },
    {
      "cell_type": "markdown",
      "source": [
        "The classical machine learning tasks like Data Exploration, Data Cleaning,\n",
        "Feature Engineering, Model Building and Model Testing. Using Regression\n",
        "learning algorithms that’s best fit for the above case."
      ],
      "metadata": {
        "id": "uG6VPjHFZ-z3"
      }
    },
    {
      "cell_type": "markdown",
      "source": [
        "# Procedure"
      ],
      "metadata": {
        "id": "fS6BiXtCZ_iJ"
      }
    },
    {
      "cell_type": "markdown",
      "source": [
        "Step 1 : Import Libraries and Dataset\n",
        "\n",
        "Step 2 : Data Pre-processing\n",
        "        1. Data Type and conversion\n",
        "        2. Removing Irrelevant Columns\n",
        "        3. Identifying & Treatment Missing Value\n",
        "        4. Identifying & Treatment Outliers\n",
        "        5. Descriptive Analysis\n",
        "        6. Correlation\n",
        "        \n",
        "Step 3 : Data Visualization\n",
        "\n",
        "Step 4 : Multicollinearity\n",
        "        \n",
        "Step 5 : Data Partition  \n",
        "\n",
        "Step 6 : Model Building\n",
        "\n",
        "        Assumption of Model\n",
        "\n",
        "         6.1  Linearity\n",
        "         \n",
        "         6.2  Normality\n",
        "         \n",
        "         6.3  Homoscedasicity\n",
        "         \n",
        "         6.4  Model Error has to be independently identificaly Distibuted\n",
        "\n",
        "         Conclusion"
      ],
      "metadata": {
        "id": "YP2PhB8FaDAb"
      }
    },
    {
      "cell_type": "markdown",
      "source": [
        "# STEP_1: Import libraries and DATASET."
      ],
      "metadata": {
        "id": "I0VuHDIMaRPy"
      }
    },
    {
      "cell_type": "code",
      "source": [
        "################################## Data Analysis & Calculation ##################################\n",
        "\n",
        "import pandas as pd\n",
        "import numpy as np\n",
        "\n",
        "################# Machine Learning ################\n",
        "import statsmodels\n",
        "from statsmodels.stats.anova import anova_lm\n",
        "from statsmodels.stats.outliers_influence import variance_inflation_factor\n",
        "\n",
        "################# Data Visualization ################\n",
        "import seaborn as sns\n",
        "from matplotlib import pyplot as plt\n",
        "%matplotlib inline"
      ],
      "metadata": {
        "id": "OgFSGiygahO_"
      },
      "execution_count": null,
      "outputs": []
    },
    {
      "cell_type": "markdown",
      "source": [
        "# DATA import"
      ],
      "metadata": {
        "id": "EyaT8PKHalD9"
      }
    },
    {
      "cell_type": "code",
      "source": [
        "df = pd.read_csv(r\"/Advertising.csv\")\n",
        "df.head()"
      ],
      "metadata": {
        "colab": {
          "base_uri": "https://localhost:8080/",
          "height": 206
        },
        "id": "gAKUgTnIarL_",
        "outputId": "14fd9d2a-e60e-4a8f-ae6b-a15125495590"
      },
      "execution_count": null,
      "outputs": [
        {
          "output_type": "execute_result",
          "data": {
            "text/plain": [
              "   ID     TV  Radio  Newspaper  Sales\n",
              "0   1  230.1   37.8       69.2   22.1\n",
              "1   2   44.5   39.3       45.1   10.4\n",
              "2   3   17.2   45.9       69.3    9.3\n",
              "3   4  151.5   41.3       58.5   18.5\n",
              "4   5  180.8   10.8       58.4   12.9"
            ],
            "text/html": [
              "\n",
              "  <div id=\"df-6ff474b8-1bf0-4777-a667-cfd3c5f58dd7\" class=\"colab-df-container\">\n",
              "    <div>\n",
              "<style scoped>\n",
              "    .dataframe tbody tr th:only-of-type {\n",
              "        vertical-align: middle;\n",
              "    }\n",
              "\n",
              "    .dataframe tbody tr th {\n",
              "        vertical-align: top;\n",
              "    }\n",
              "\n",
              "    .dataframe thead th {\n",
              "        text-align: right;\n",
              "    }\n",
              "</style>\n",
              "<table border=\"1\" class=\"dataframe\">\n",
              "  <thead>\n",
              "    <tr style=\"text-align: right;\">\n",
              "      <th></th>\n",
              "      <th>ID</th>\n",
              "      <th>TV</th>\n",
              "      <th>Radio</th>\n",
              "      <th>Newspaper</th>\n",
              "      <th>Sales</th>\n",
              "    </tr>\n",
              "  </thead>\n",
              "  <tbody>\n",
              "    <tr>\n",
              "      <th>0</th>\n",
              "      <td>1</td>\n",
              "      <td>230.1</td>\n",
              "      <td>37.8</td>\n",
              "      <td>69.2</td>\n",
              "      <td>22.1</td>\n",
              "    </tr>\n",
              "    <tr>\n",
              "      <th>1</th>\n",
              "      <td>2</td>\n",
              "      <td>44.5</td>\n",
              "      <td>39.3</td>\n",
              "      <td>45.1</td>\n",
              "      <td>10.4</td>\n",
              "    </tr>\n",
              "    <tr>\n",
              "      <th>2</th>\n",
              "      <td>3</td>\n",
              "      <td>17.2</td>\n",
              "      <td>45.9</td>\n",
              "      <td>69.3</td>\n",
              "      <td>9.3</td>\n",
              "    </tr>\n",
              "    <tr>\n",
              "      <th>3</th>\n",
              "      <td>4</td>\n",
              "      <td>151.5</td>\n",
              "      <td>41.3</td>\n",
              "      <td>58.5</td>\n",
              "      <td>18.5</td>\n",
              "    </tr>\n",
              "    <tr>\n",
              "      <th>4</th>\n",
              "      <td>5</td>\n",
              "      <td>180.8</td>\n",
              "      <td>10.8</td>\n",
              "      <td>58.4</td>\n",
              "      <td>12.9</td>\n",
              "    </tr>\n",
              "  </tbody>\n",
              "</table>\n",
              "</div>\n",
              "    <div class=\"colab-df-buttons\">\n",
              "\n",
              "  <div class=\"colab-df-container\">\n",
              "    <button class=\"colab-df-convert\" onclick=\"convertToInteractive('df-6ff474b8-1bf0-4777-a667-cfd3c5f58dd7')\"\n",
              "            title=\"Convert this dataframe to an interactive table.\"\n",
              "            style=\"display:none;\">\n",
              "\n",
              "  <svg xmlns=\"http://www.w3.org/2000/svg\" height=\"24px\" viewBox=\"0 -960 960 960\">\n",
              "    <path d=\"M120-120v-720h720v720H120Zm60-500h600v-160H180v160Zm220 220h160v-160H400v160Zm0 220h160v-160H400v160ZM180-400h160v-160H180v160Zm440 0h160v-160H620v160ZM180-180h160v-160H180v160Zm440 0h160v-160H620v160Z\"/>\n",
              "  </svg>\n",
              "    </button>\n",
              "\n",
              "  <style>\n",
              "    .colab-df-container {\n",
              "      display:flex;\n",
              "      gap: 12px;\n",
              "    }\n",
              "\n",
              "    .colab-df-convert {\n",
              "      background-color: #E8F0FE;\n",
              "      border: none;\n",
              "      border-radius: 50%;\n",
              "      cursor: pointer;\n",
              "      display: none;\n",
              "      fill: #1967D2;\n",
              "      height: 32px;\n",
              "      padding: 0 0 0 0;\n",
              "      width: 32px;\n",
              "    }\n",
              "\n",
              "    .colab-df-convert:hover {\n",
              "      background-color: #E2EBFA;\n",
              "      box-shadow: 0px 1px 2px rgba(60, 64, 67, 0.3), 0px 1px 3px 1px rgba(60, 64, 67, 0.15);\n",
              "      fill: #174EA6;\n",
              "    }\n",
              "\n",
              "    .colab-df-buttons div {\n",
              "      margin-bottom: 4px;\n",
              "    }\n",
              "\n",
              "    [theme=dark] .colab-df-convert {\n",
              "      background-color: #3B4455;\n",
              "      fill: #D2E3FC;\n",
              "    }\n",
              "\n",
              "    [theme=dark] .colab-df-convert:hover {\n",
              "      background-color: #434B5C;\n",
              "      box-shadow: 0px 1px 3px 1px rgba(0, 0, 0, 0.15);\n",
              "      filter: drop-shadow(0px 1px 2px rgba(0, 0, 0, 0.3));\n",
              "      fill: #FFFFFF;\n",
              "    }\n",
              "  </style>\n",
              "\n",
              "    <script>\n",
              "      const buttonEl =\n",
              "        document.querySelector('#df-6ff474b8-1bf0-4777-a667-cfd3c5f58dd7 button.colab-df-convert');\n",
              "      buttonEl.style.display =\n",
              "        google.colab.kernel.accessAllowed ? 'block' : 'none';\n",
              "\n",
              "      async function convertToInteractive(key) {\n",
              "        const element = document.querySelector('#df-6ff474b8-1bf0-4777-a667-cfd3c5f58dd7');\n",
              "        const dataTable =\n",
              "          await google.colab.kernel.invokeFunction('convertToInteractive',\n",
              "                                                    [key], {});\n",
              "        if (!dataTable) return;\n",
              "\n",
              "        const docLinkHtml = 'Like what you see? Visit the ' +\n",
              "          '<a target=\"_blank\" href=https://colab.research.google.com/notebooks/data_table.ipynb>data table notebook</a>'\n",
              "          + ' to learn more about interactive tables.';\n",
              "        element.innerHTML = '';\n",
              "        dataTable['output_type'] = 'display_data';\n",
              "        await google.colab.output.renderOutput(dataTable, element);\n",
              "        const docLink = document.createElement('div');\n",
              "        docLink.innerHTML = docLinkHtml;\n",
              "        element.appendChild(docLink);\n",
              "      }\n",
              "    </script>\n",
              "  </div>\n",
              "\n",
              "\n",
              "<div id=\"df-7aaea5ed-f049-4b56-bf4c-3d83f7e89480\">\n",
              "  <button class=\"colab-df-quickchart\" onclick=\"quickchart('df-7aaea5ed-f049-4b56-bf4c-3d83f7e89480')\"\n",
              "            title=\"Suggest charts\"\n",
              "            style=\"display:none;\">\n",
              "\n",
              "<svg xmlns=\"http://www.w3.org/2000/svg\" height=\"24px\"viewBox=\"0 0 24 24\"\n",
              "     width=\"24px\">\n",
              "    <g>\n",
              "        <path d=\"M19 3H5c-1.1 0-2 .9-2 2v14c0 1.1.9 2 2 2h14c1.1 0 2-.9 2-2V5c0-1.1-.9-2-2-2zM9 17H7v-7h2v7zm4 0h-2V7h2v10zm4 0h-2v-4h2v4z\"/>\n",
              "    </g>\n",
              "</svg>\n",
              "  </button>\n",
              "\n",
              "<style>\n",
              "  .colab-df-quickchart {\n",
              "      --bg-color: #E8F0FE;\n",
              "      --fill-color: #1967D2;\n",
              "      --hover-bg-color: #E2EBFA;\n",
              "      --hover-fill-color: #174EA6;\n",
              "      --disabled-fill-color: #AAA;\n",
              "      --disabled-bg-color: #DDD;\n",
              "  }\n",
              "\n",
              "  [theme=dark] .colab-df-quickchart {\n",
              "      --bg-color: #3B4455;\n",
              "      --fill-color: #D2E3FC;\n",
              "      --hover-bg-color: #434B5C;\n",
              "      --hover-fill-color: #FFFFFF;\n",
              "      --disabled-bg-color: #3B4455;\n",
              "      --disabled-fill-color: #666;\n",
              "  }\n",
              "\n",
              "  .colab-df-quickchart {\n",
              "    background-color: var(--bg-color);\n",
              "    border: none;\n",
              "    border-radius: 50%;\n",
              "    cursor: pointer;\n",
              "    display: none;\n",
              "    fill: var(--fill-color);\n",
              "    height: 32px;\n",
              "    padding: 0;\n",
              "    width: 32px;\n",
              "  }\n",
              "\n",
              "  .colab-df-quickchart:hover {\n",
              "    background-color: var(--hover-bg-color);\n",
              "    box-shadow: 0 1px 2px rgba(60, 64, 67, 0.3), 0 1px 3px 1px rgba(60, 64, 67, 0.15);\n",
              "    fill: var(--button-hover-fill-color);\n",
              "  }\n",
              "\n",
              "  .colab-df-quickchart-complete:disabled,\n",
              "  .colab-df-quickchart-complete:disabled:hover {\n",
              "    background-color: var(--disabled-bg-color);\n",
              "    fill: var(--disabled-fill-color);\n",
              "    box-shadow: none;\n",
              "  }\n",
              "\n",
              "  .colab-df-spinner {\n",
              "    border: 2px solid var(--fill-color);\n",
              "    border-color: transparent;\n",
              "    border-bottom-color: var(--fill-color);\n",
              "    animation:\n",
              "      spin 1s steps(1) infinite;\n",
              "  }\n",
              "\n",
              "  @keyframes spin {\n",
              "    0% {\n",
              "      border-color: transparent;\n",
              "      border-bottom-color: var(--fill-color);\n",
              "      border-left-color: var(--fill-color);\n",
              "    }\n",
              "    20% {\n",
              "      border-color: transparent;\n",
              "      border-left-color: var(--fill-color);\n",
              "      border-top-color: var(--fill-color);\n",
              "    }\n",
              "    30% {\n",
              "      border-color: transparent;\n",
              "      border-left-color: var(--fill-color);\n",
              "      border-top-color: var(--fill-color);\n",
              "      border-right-color: var(--fill-color);\n",
              "    }\n",
              "    40% {\n",
              "      border-color: transparent;\n",
              "      border-right-color: var(--fill-color);\n",
              "      border-top-color: var(--fill-color);\n",
              "    }\n",
              "    60% {\n",
              "      border-color: transparent;\n",
              "      border-right-color: var(--fill-color);\n",
              "    }\n",
              "    80% {\n",
              "      border-color: transparent;\n",
              "      border-right-color: var(--fill-color);\n",
              "      border-bottom-color: var(--fill-color);\n",
              "    }\n",
              "    90% {\n",
              "      border-color: transparent;\n",
              "      border-bottom-color: var(--fill-color);\n",
              "    }\n",
              "  }\n",
              "</style>\n",
              "\n",
              "  <script>\n",
              "    async function quickchart(key) {\n",
              "      const quickchartButtonEl =\n",
              "        document.querySelector('#' + key + ' button');\n",
              "      quickchartButtonEl.disabled = true;  // To prevent multiple clicks.\n",
              "      quickchartButtonEl.classList.add('colab-df-spinner');\n",
              "      try {\n",
              "        const charts = await google.colab.kernel.invokeFunction(\n",
              "            'suggestCharts', [key], {});\n",
              "      } catch (error) {\n",
              "        console.error('Error during call to suggestCharts:', error);\n",
              "      }\n",
              "      quickchartButtonEl.classList.remove('colab-df-spinner');\n",
              "      quickchartButtonEl.classList.add('colab-df-quickchart-complete');\n",
              "    }\n",
              "    (() => {\n",
              "      let quickchartButtonEl =\n",
              "        document.querySelector('#df-7aaea5ed-f049-4b56-bf4c-3d83f7e89480 button');\n",
              "      quickchartButtonEl.style.display =\n",
              "        google.colab.kernel.accessAllowed ? 'block' : 'none';\n",
              "    })();\n",
              "  </script>\n",
              "</div>\n",
              "\n",
              "    </div>\n",
              "  </div>\n"
            ],
            "application/vnd.google.colaboratory.intrinsic+json": {
              "type": "dataframe",
              "variable_name": "df",
              "summary": "{\n  \"name\": \"df\",\n  \"rows\": 200,\n  \"fields\": [\n    {\n      \"column\": \"ID\",\n      \"properties\": {\n        \"dtype\": \"number\",\n        \"std\": 57,\n        \"min\": 1,\n        \"max\": 200,\n        \"num_unique_values\": 200,\n        \"samples\": [\n          96,\n          16,\n          31\n        ],\n        \"semantic_type\": \"\",\n        \"description\": \"\"\n      }\n    },\n    {\n      \"column\": \"TV\",\n      \"properties\": {\n        \"dtype\": \"number\",\n        \"std\": 85.85423631490808,\n        \"min\": 0.7,\n        \"max\": 296.4,\n        \"num_unique_values\": 190,\n        \"samples\": [\n          287.6,\n          286.0,\n          78.2\n        ],\n        \"semantic_type\": \"\",\n        \"description\": \"\"\n      }\n    },\n    {\n      \"column\": \"Radio\",\n      \"properties\": {\n        \"dtype\": \"number\",\n        \"std\": 14.846809176168724,\n        \"min\": 0.0,\n        \"max\": 49.6,\n        \"num_unique_values\": 167,\n        \"samples\": [\n          8.2,\n          36.9,\n          44.5\n        ],\n        \"semantic_type\": \"\",\n        \"description\": \"\"\n      }\n    },\n    {\n      \"column\": \"Newspaper\",\n      \"properties\": {\n        \"dtype\": \"number\",\n        \"std\": 21.778620838522826,\n        \"min\": 0.3,\n        \"max\": 114.0,\n        \"num_unique_values\": 172,\n        \"samples\": [\n          22.3,\n          5.7,\n          17.0\n        ],\n        \"semantic_type\": \"\",\n        \"description\": \"\"\n      }\n    },\n    {\n      \"column\": \"Sales\",\n      \"properties\": {\n        \"dtype\": \"number\",\n        \"std\": 5.217456565710478,\n        \"min\": 1.6,\n        \"max\": 27.0,\n        \"num_unique_values\": 121,\n        \"samples\": [\n          11.4,\n          21.2,\n          12.9\n        ],\n        \"semantic_type\": \"\",\n        \"description\": \"\"\n      }\n    }\n  ]\n}"
            }
          },
          "metadata": {},
          "execution_count": 8
        }
      ]
    },
    {
      "cell_type": "markdown",
      "source": [
        "# STEP 2 : DATA_PREPROCESSING"
      ],
      "metadata": {
        "id": "yLp3RKy0a4lc"
      }
    },
    {
      "cell_type": "markdown",
      "source": [
        "1.Data Type and conversion\n",
        "\n",
        "2.Removing Irrelevant Columns\n",
        "\n",
        "3.Identifying & Treatment Missing Value\n",
        "\n",
        "4.Identifying & Treatment Outliers\n",
        "\n",
        "5.Descriptive Analysis\n",
        "\n",
        "6.Correlation\n"
      ],
      "metadata": {
        "id": "jPf920-ua9qX"
      }
    },
    {
      "cell_type": "markdown",
      "source": [
        "**2.1 Data Type and conversions**"
      ],
      "metadata": {
        "id": "qr3se5P9bLU6"
      }
    },
    {
      "cell_type": "code",
      "source": [
        "df.info()"
      ],
      "metadata": {
        "colab": {
          "base_uri": "https://localhost:8080/"
        },
        "id": "PqUC0rsQbROI",
        "outputId": "a85d6a6d-4a45-4616-c41c-4df34d72c9fe"
      },
      "execution_count": null,
      "outputs": [
        {
          "output_type": "stream",
          "name": "stdout",
          "text": [
            "<class 'pandas.core.frame.DataFrame'>\n",
            "RangeIndex: 200 entries, 0 to 199\n",
            "Data columns (total 5 columns):\n",
            " #   Column     Non-Null Count  Dtype  \n",
            "---  ------     --------------  -----  \n",
            " 0   ID         200 non-null    int64  \n",
            " 1   TV         200 non-null    float64\n",
            " 2   Radio      200 non-null    float64\n",
            " 3   Newspaper  200 non-null    float64\n",
            " 4   Sales      200 non-null    float64\n",
            "dtypes: float64(4), int64(1)\n",
            "memory usage: 7.9 KB\n"
          ]
        }
      ]
    },
    {
      "cell_type": "markdown",
      "source": [
        "*** All the columns are numerical except Target column**"
      ],
      "metadata": {
        "id": "snkk7VECcJo1"
      }
    },
    {
      "cell_type": "markdown",
      "source": [
        "**2.2 Removing Irrelevent Columns**"
      ],
      "metadata": {
        "id": "d-9Aajy2cWHg"
      }
    },
    {
      "cell_type": "code",
      "source": [
        "df = df.drop('ID', axis = 1)"
      ],
      "metadata": {
        "id": "ptFtWBC0cXeS"
      },
      "execution_count": null,
      "outputs": []
    },
    {
      "cell_type": "markdown",
      "source": [
        "**2.3 Identifying and Treatment of Missing Values**"
      ],
      "metadata": {
        "id": "oXTMLZY6clGo"
      }
    },
    {
      "cell_type": "code",
      "source": [
        "# count the number of NaN values in each column\n",
        "df.isnull().sum()"
      ],
      "metadata": {
        "colab": {
          "base_uri": "https://localhost:8080/"
        },
        "id": "bUr0FUmEcmqe",
        "outputId": "33a08fd2-64d8-4954-f11b-ec1f3b4daf05"
      },
      "execution_count": null,
      "outputs": [
        {
          "output_type": "execute_result",
          "data": {
            "text/plain": [
              "TV           0\n",
              "Radio        0\n",
              "Newspaper    0\n",
              "Sales        0\n",
              "dtype: int64"
            ]
          },
          "metadata": {},
          "execution_count": 12
        }
      ]
    },
    {
      "cell_type": "markdown",
      "source": [
        "**No Missing values present in dataset**"
      ],
      "metadata": {
        "id": "5L4EckeOcrRT"
      }
    },
    {
      "cell_type": "markdown",
      "source": [
        "**2.4 Identifying And Treatment of Outliers**"
      ],
      "metadata": {
        "id": "eWCEwrY2cxI_"
      }
    },
    {
      "cell_type": "code",
      "source": [
        "sns.boxplot(data=df)"
      ],
      "metadata": {
        "colab": {
          "base_uri": "https://localhost:8080/",
          "height": 447
        },
        "id": "KemPZoR3c1Kv",
        "outputId": "a9dad17e-38f6-470c-8ef8-9632a02b2ec2"
      },
      "execution_count": null,
      "outputs": [
        {
          "output_type": "execute_result",
          "data": {
            "text/plain": [
              "<Axes: >"
            ]
          },
          "metadata": {},
          "execution_count": 25
        },
        {
          "output_type": "display_data",
          "data": {
            "text/plain": [
              "<Figure size 640x480 with 1 Axes>"
            ],
            "image/png": "[encoded data removed]"
          },
          "metadata": {}
        }
      ]
    },
    {
      "cell_type": "markdown",
      "source": [
        "**2.4.1 Winsorizing Technique to remove outliers**"
      ],
      "metadata": {
        "id": "PWF8iKnfdNQS"
      }
    },
    {
      "cell_type": "code",
      "source": [
        "q1 = df['Newspaper'].quantile(0.25)\n",
        "q3 = df['Newspaper'].quantile(0.75)\n",
        "iqr = q3-q1 #Interquartile range\n",
        "#low_limit = q1-1.5*iqr #acceptable range\n",
        "upper_limit = q3+1.5*iqr #acceptable range\n",
        "upper_limit"
      ],
      "metadata": {
        "colab": {
          "base_uri": "https://localhost:8080/"
        },
        "id": "05FlNGMGdX0b",
        "outputId": "6af5cbef-54f1-44f0-ac42-40672f6da5bd"
      },
      "execution_count": null,
      "outputs": [
        {
          "output_type": "execute_result",
          "data": {
            "text/plain": [
              "93.625"
            ]
          },
          "metadata": {},
          "execution_count": 19
        }
      ]
    },
    {
      "cell_type": "code",
      "source": [
        "df['Newspaper']=np.where(df['Newspaper'] > upper_limit,upper_limit,df['Newspaper']) # upper limit"
      ],
      "metadata": {
        "id": "u_HQxVwsdcxE"
      },
      "execution_count": null,
      "outputs": []
    },
    {
      "cell_type": "code",
      "source": [
        "sns.boxplot(data=df)"
      ],
      "metadata": {
        "colab": {
          "base_uri": "https://localhost:8080/",
          "height": 447
        },
        "id": "FR1YWOfxfDtC",
        "outputId": "fe36dfd0-5e4d-414b-9619-bd1b57c99ca5"
      },
      "execution_count": null,
      "outputs": [
        {
          "output_type": "execute_result",
          "data": {
            "text/plain": [
              "<Axes: >"
            ]
          },
          "metadata": {},
          "execution_count": 26
        },
        {
          "output_type": "display_data",
          "data": {
            "text/plain": [
              "<Figure size 640x480 with 1 Axes>"
            ],
            "image/png": "[encoded data removed]"
          },
          "metadata": {}
        }
      ]
    },
    {
      "cell_type": "markdown",
      "source": [
        "**2.5 Descriptive Analysis**"
      ],
      "metadata": {
        "id": "S-YxZH-IfVfl"
      }
    },
    {
      "cell_type": "code",
      "source": [
        "df.describe()"
      ],
      "metadata": {
        "colab": {
          "base_uri": "https://localhost:8080/",
          "height": 300
        },
        "id": "XQ25176RfQxR",
        "outputId": "0ad5533d-e476-4e22-bc07-75be732395a4"
      },
      "execution_count": null,
      "outputs": [
        {
          "output_type": "execute_result",
          "data": {
            "text/plain": [
              "               TV       Radio   Newspaper       Sales\n",
              "count  200.000000  200.000000  200.000000  200.000000\n",
              "mean   147.042500   23.264000   30.415750   14.022500\n",
              "std     85.854236   14.846809   21.316901    5.217457\n",
              "min      0.700000    0.000000    0.300000    1.600000\n",
              "25%     74.375000    9.975000   12.750000   10.375000\n",
              "50%    149.750000   22.900000   25.750000   12.900000\n",
              "75%    218.825000   36.525000   45.100000   17.400000\n",
              "max    296.400000   49.600000   93.625000   27.000000"
            ],
            "text/html": [
              "\n",
              "  <div id=\"df-6a928b45-6237-4aa1-9dcb-3ef5a3915c86\" class=\"colab-df-container\">\n",
              "    <div>\n",
              "<style scoped>\n",
              "    .dataframe tbody tr th:only-of-type {\n",
              "        vertical-align: middle;\n",
              "    }\n",
              "\n",
              "    .dataframe tbody tr th {\n",
              "        vertical-align: top;\n",
              "    }\n",
              "\n",
              "    .dataframe thead th {\n",
              "        text-align: right;\n",
              "    }\n",
              "</style>\n",
              "<table border=\"1\" class=\"dataframe\">\n",
              "  <thead>\n",
              "    <tr style=\"text-align: right;\">\n",
              "      <th></th>\n",
              "      <th>TV</th>\n",
              "      <th>Radio</th>\n",
              "      <th>Newspaper</th>\n",
              "      <th>Sales</th>\n",
              "    </tr>\n",
              "  </thead>\n",
              "  <tbody>\n",
              "    <tr>\n",
              "      <th>count</th>\n",
              "      <td>200.000000</td>\n",
              "      <td>200.000000</td>\n",
              "      <td>200.000000</td>\n",
              "      <td>200.000000</td>\n",
              "    </tr>\n",
              "    <tr>\n",
              "      <th>mean</th>\n",
              "      <td>147.042500</td>\n",
              "      <td>23.264000</td>\n",
              "      <td>30.415750</td>\n",
              "      <td>14.022500</td>\n",
              "    </tr>\n",
              "    <tr>\n",
              "      <th>std</th>\n",
              "      <td>85.854236</td>\n",
              "      <td>14.846809</td>\n",
              "      <td>21.316901</td>\n",
              "      <td>5.217457</td>\n",
              "    </tr>\n",
              "    <tr>\n",
              "      <th>min</th>\n",
              "      <td>0.700000</td>\n",
              "      <td>0.000000</td>\n",
              "      <td>0.300000</td>\n",
              "      <td>1.600000</td>\n",
              "    </tr>\n",
              "    <tr>\n",
              "      <th>25%</th>\n",
              "      <td>74.375000</td>\n",
              "      <td>9.975000</td>\n",
              "      <td>12.750000</td>\n",
              "      <td>10.375000</td>\n",
              "    </tr>\n",
              "    <tr>\n",
              "      <th>50%</th>\n",
              "      <td>149.750000</td>\n",
              "      <td>22.900000</td>\n",
              "      <td>25.750000</td>\n",
              "      <td>12.900000</td>\n",
              "    </tr>\n",
              "    <tr>\n",
              "      <th>75%</th>\n",
              "      <td>218.825000</td>\n",
              "      <td>36.525000</td>\n",
              "      <td>45.100000</td>\n",
              "      <td>17.400000</td>\n",
              "    </tr>\n",
              "    <tr>\n",
              "      <th>max</th>\n",
              "      <td>296.400000</td>\n",
              "      <td>49.600000</td>\n",
              "      <td>93.625000</td>\n",
              "      <td>27.000000</td>\n",
              "    </tr>\n",
              "  </tbody>\n",
              "</table>\n",
              "</div>\n",
              "    <div class=\"colab-df-buttons\">\n",
              "\n",
              "  <div class=\"colab-df-container\">\n",
              "    <button class=\"colab-df-convert\" onclick=\"convertToInteractive('df-6a928b45-6237-4aa1-9dcb-3ef5a3915c86')\"\n",
              "            title=\"Convert this dataframe to an interactive table.\"\n",
              "            style=\"display:none;\">\n",
              "\n",
              "  <svg xmlns=\"http://www.w3.org/2000/svg\" height=\"24px\" viewBox=\"0 -960 960 960\">\n",
              "    <path d=\"M120-120v-720h720v720H120Zm60-500h600v-160H180v160Zm220 220h160v-160H400v160Zm0 220h160v-160H400v160ZM180-400h160v-160H180v160Zm440 0h160v-160H620v160ZM180-180h160v-160H180v160Zm440 0h160v-160H620v160Z\"/>\n",
              "  </svg>\n",
              "    </button>\n",
              "\n",
              "  <style>\n",
              "    .colab-df-container {\n",
              "      display:flex;\n",
              "      gap: 12px;\n",
              "    }\n",
              "\n",
              "    .colab-df-convert {\n",
              "      background-color: #E8F0FE;\n",
              "      border: none;\n",
              "      border-radius: 50%;\n",
              "      cursor: pointer;\n",
              "      display: none;\n",
              "      fill: #1967D2;\n",
              "      height: 32px;\n",
              "      padding: 0 0 0 0;\n",
              "      width: 32px;\n",
              "    }\n",
              "\n",
              "    .colab-df-convert:hover {\n",
              "      background-color: #E2EBFA;\n",
              "      box-shadow: 0px 1px 2px rgba(60, 64, 67, 0.3), 0px 1px 3px 1px rgba(60, 64, 67, 0.15);\n",
              "      fill: #174EA6;\n",
              "    }\n",
              "\n",
              "    .colab-df-buttons div {\n",
              "      margin-bottom: 4px;\n",
              "    }\n",
              "\n",
              "    [theme=dark] .colab-df-convert {\n",
              "      background-color: #3B4455;\n",
              "      fill: #D2E3FC;\n",
              "    }\n",
              "\n",
              "    [theme=dark] .colab-df-convert:hover {\n",
              "      background-color: #434B5C;\n",
              "      box-shadow: 0px 1px 3px 1px rgba(0, 0, 0, 0.15);\n",
              "      filter: drop-shadow(0px 1px 2px rgba(0, 0, 0, 0.3));\n",
              "      fill: #FFFFFF;\n",
              "    }\n",
              "  </style>\n",
              "\n",
              "    <script>\n",
              "      const buttonEl =\n",
              "        document.querySelector('#df-6a928b45-6237-4aa1-9dcb-3ef5a3915c86 button.colab-df-convert');\n",
              "      buttonEl.style.display =\n",
              "        google.colab.kernel.accessAllowed ? 'block' : 'none';\n",
              "\n",
              "      async function convertToInteractive(key) {\n",
              "        const element = document.querySelector('#df-6a928b45-6237-4aa1-9dcb-3ef5a3915c86');\n",
              "        const dataTable =\n",
              "          await google.colab.kernel.invokeFunction('convertToInteractive',\n",
              "                                                    [key], {});\n",
              "        if (!dataTable) return;\n",
              "\n",
              "        const docLinkHtml = 'Like what you see? Visit the ' +\n",
              "          '<a target=\"_blank\" href=https://colab.research.google.com/notebooks/data_table.ipynb>data table notebook</a>'\n",
              "          + ' to learn more about interactive tables.';\n",
              "        element.innerHTML = '';\n",
              "        dataTable['output_type'] = 'display_data';\n",
              "        await google.colab.output.renderOutput(dataTable, element);\n",
              "        const docLink = document.createElement('div');\n",
              "        docLink.innerHTML = docLinkHtml;\n",
              "        element.appendChild(docLink);\n",
              "      }\n",
              "    </script>\n",
              "  </div>\n",
              "\n",
              "\n",
              "<div id=\"df-93b35f6a-3d79-4d04-bf18-8d248c5a30b2\">\n",
              "  <button class=\"colab-df-quickchart\" onclick=\"quickchart('df-93b35f6a-3d79-4d04-bf18-8d248c5a30b2')\"\n",
              "            title=\"Suggest charts\"\n",
              "            style=\"display:none;\">\n",
              "\n",
              "<svg xmlns=\"http://www.w3.org/2000/svg\" height=\"24px\"viewBox=\"0 0 24 24\"\n",
              "     width=\"24px\">\n",
              "    <g>\n",
              "        <path d=\"M19 3H5c-1.1 0-2 .9-2 2v14c0 1.1.9 2 2 2h14c1.1 0 2-.9 2-2V5c0-1.1-.9-2-2-2zM9 17H7v-7h2v7zm4 0h-2V7h2v10zm4 0h-2v-4h2v4z\"/>\n",
              "    </g>\n",
              "</svg>\n",
              "  </button>\n",
              "\n",
              "<style>\n",
              "  .colab-df-quickchart {\n",
              "      --bg-color: #E8F0FE;\n",
              "      --fill-color: #1967D2;\n",
              "      --hover-bg-color: #E2EBFA;\n",
              "      --hover-fill-color: #174EA6;\n",
              "      --disabled-fill-color: #AAA;\n",
              "      --disabled-bg-color: #DDD;\n",
              "  }\n",
              "\n",
              "  [theme=dark] .colab-df-quickchart {\n",
              "      --bg-color: #3B4455;\n",
              "      --fill-color: #D2E3FC;\n",
              "      --hover-bg-color: #434B5C;\n",
              "      --hover-fill-color: #FFFFFF;\n",
              "      --disabled-bg-color: #3B4455;\n",
              "      --disabled-fill-color: #666;\n",
              "  }\n",
              "\n",
              "  .colab-df-quickchart {\n",
              "    background-color: var(--bg-color);\n",
              "    border: none;\n",
              "    border-radius: 50%;\n",
              "    cursor: pointer;\n",
              "    display: none;\n",
              "    fill: var(--fill-color);\n",
              "    height: 32px;\n",
              "    padding: 0;\n",
              "    width: 32px;\n",
              "  }\n",
              "\n",
              "  .colab-df-quickchart:hover {\n",
              "    background-color: var(--hover-bg-color);\n",
              "    box-shadow: 0 1px 2px rgba(60, 64, 67, 0.3), 0 1px 3px 1px rgba(60, 64, 67, 0.15);\n",
              "    fill: var(--button-hover-fill-color);\n",
              "  }\n",
              "\n",
              "  .colab-df-quickchart-complete:disabled,\n",
              "  .colab-df-quickchart-complete:disabled:hover {\n",
              "    background-color: var(--disabled-bg-color);\n",
              "    fill: var(--disabled-fill-color);\n",
              "    box-shadow: none;\n",
              "  }\n",
              "\n",
              "  .colab-df-spinner {\n",
              "    border: 2px solid var(--fill-color);\n",
              "    border-color: transparent;\n",
              "    border-bottom-color: var(--fill-color);\n",
              "    animation:\n",
              "      spin 1s steps(1) infinite;\n",
              "  }\n",
              "\n",
              "  @keyframes spin {\n",
              "    0% {\n",
              "      border-color: transparent;\n",
              "      border-bottom-color: var(--fill-color);\n",
              "      border-left-color: var(--fill-color);\n",
              "    }\n",
              "    20% {\n",
              "      border-color: transparent;\n",
              "      border-left-color: var(--fill-color);\n",
              "      border-top-color: var(--fill-color);\n",
              "    }\n",
              "    30% {\n",
              "      border-color: transparent;\n",
              "      border-left-color: var(--fill-color);\n",
              "      border-top-color: var(--fill-color);\n",
              "      border-right-color: var(--fill-color);\n",
              "    }\n",
              "    40% {\n",
              "      border-color: transparent;\n",
              "      border-right-color: var(--fill-color);\n",
              "      border-top-color: var(--fill-color);\n",
              "    }\n",
              "    60% {\n",
              "      border-color: transparent;\n",
              "      border-right-color: var(--fill-color);\n",
              "    }\n",
              "    80% {\n",
              "      border-color: transparent;\n",
              "      border-right-color: var(--fill-color);\n",
              "      border-bottom-color: var(--fill-color);\n",
              "    }\n",
              "    90% {\n",
              "      border-color: transparent;\n",
              "      border-bottom-color: var(--fill-color);\n",
              "    }\n",
              "  }\n",
              "</style>\n",
              "\n",
              "  <script>\n",
              "    async function quickchart(key) {\n",
              "      const quickchartButtonEl =\n",
              "        document.querySelector('#' + key + ' button');\n",
              "      quickchartButtonEl.disabled = true;  // To prevent multiple clicks.\n",
              "      quickchartButtonEl.classList.add('colab-df-spinner');\n",
              "      try {\n",
              "        const charts = await google.colab.kernel.invokeFunction(\n",
              "            'suggestCharts', [key], {});\n",
              "      } catch (error) {\n",
              "        console.error('Error during call to suggestCharts:', error);\n",
              "      }\n",
              "      quickchartButtonEl.classList.remove('colab-df-spinner');\n",
              "      quickchartButtonEl.classList.add('colab-df-quickchart-complete');\n",
              "    }\n",
              "    (() => {\n",
              "      let quickchartButtonEl =\n",
              "        document.querySelector('#df-93b35f6a-3d79-4d04-bf18-8d248c5a30b2 button');\n",
              "      quickchartButtonEl.style.display =\n",
              "        google.colab.kernel.accessAllowed ? 'block' : 'none';\n",
              "    })();\n",
              "  </script>\n",
              "</div>\n",
              "\n",
              "    </div>\n",
              "  </div>\n"
            ],
            "application/vnd.google.colaboratory.intrinsic+json": {
              "type": "dataframe",
              "summary": "{\n  \"name\": \"df\",\n  \"rows\": 8,\n  \"fields\": [\n    {\n      \"column\": \"TV\",\n      \"properties\": {\n        \"dtype\": \"number\",\n        \"std\": 93.12930693433862,\n        \"min\": 0.7,\n        \"max\": 296.4,\n        \"num_unique_values\": 8,\n        \"samples\": [\n          147.0425,\n          149.75,\n          200.0\n        ],\n        \"semantic_type\": \"\",\n        \"description\": \"\"\n      }\n    },\n    {\n      \"column\": \"Radio\",\n      \"properties\": {\n        \"dtype\": \"number\",\n        \"std\": 64.62946191825954,\n        \"min\": 0.0,\n        \"max\": 200.0,\n        \"num_unique_values\": 8,\n        \"samples\": [\n          23.264000000000006,\n          22.9,\n          200.0\n        ],\n        \"semantic_type\": \"\",\n        \"description\": \"\"\n      }\n    },\n    {\n      \"column\": \"Newspaper\",\n      \"properties\": {\n        \"dtype\": \"number\",\n        \"std\": 65.43494848958211,\n        \"min\": 0.3,\n        \"max\": 200.0,\n        \"num_unique_values\": 8,\n        \"samples\": [\n          30.41575,\n          25.75,\n          200.0\n        ],\n        \"semantic_type\": \"\",\n        \"description\": \"\"\n      }\n    },\n    {\n      \"column\": \"Sales\",\n      \"properties\": {\n        \"dtype\": \"number\",\n        \"std\": 66.68380930502316,\n        \"min\": 1.6,\n        \"max\": 200.0,\n        \"num_unique_values\": 8,\n        \"samples\": [\n          14.0225,\n          12.9,\n          200.0\n        ],\n        \"semantic_type\": \"\",\n        \"description\": \"\"\n      }\n    }\n  ]\n}"
            }
          },
          "metadata": {},
          "execution_count": 28
        }
      ]
    },
    {
      "cell_type": "code",
      "source": [
        "df.corr()"
      ],
      "metadata": {
        "colab": {
          "base_uri": "https://localhost:8080/",
          "height": 175
        },
        "id": "XH2tM7Refaxz",
        "outputId": "1438c361-cf6d-46d6-8ea6-3046ba6f7581"
      },
      "execution_count": null,
      "outputs": [
        {
          "output_type": "execute_result",
          "data": {
            "text/plain": [
              "                 TV     Radio  Newspaper     Sales\n",
              "TV         1.000000  0.054809   0.059325  0.782224\n",
              "Radio      0.054809  1.000000   0.355953  0.576223\n",
              "Newspaper  0.059325  0.355953   1.000000  0.231432\n",
              "Sales      0.782224  0.576223   0.231432  1.000000"
            ],
            "text/html": [
              "\n",
              "  <div id=\"df-bd988e2d-7cae-4eed-826a-aa9e022012b2\" class=\"colab-df-container\">\n",
              "    <div>\n",
              "<style scoped>\n",
              "    .dataframe tbody tr th:only-of-type {\n",
              "        vertical-align: middle;\n",
              "    }\n",
              "\n",
              "    .dataframe tbody tr th {\n",
              "        vertical-align: top;\n",
              "    }\n",
              "\n",
              "    .dataframe thead th {\n",
              "        text-align: right;\n",
              "    }\n",
              "</style>\n",
              "<table border=\"1\" class=\"dataframe\">\n",
              "  <thead>\n",
              "    <tr style=\"text-align: right;\">\n",
              "      <th></th>\n",
              "      <th>TV</th>\n",
              "      <th>Radio</th>\n",
              "      <th>Newspaper</th>\n",
              "      <th>Sales</th>\n",
              "    </tr>\n",
              "  </thead>\n",
              "  <tbody>\n",
              "    <tr>\n",
              "      <th>TV</th>\n",
              "      <td>1.000000</td>\n",
              "      <td>0.054809</td>\n",
              "      <td>0.059325</td>\n",
              "      <td>0.782224</td>\n",
              "    </tr>\n",
              "    <tr>\n",
              "      <th>Radio</th>\n",
              "      <td>0.054809</td>\n",
              "      <td>1.000000</td>\n",
              "      <td>0.355953</td>\n",
              "      <td>0.576223</td>\n",
              "    </tr>\n",
              "    <tr>\n",
              "      <th>Newspaper</th>\n",
              "      <td>0.059325</td>\n",
              "      <td>0.355953</td>\n",
              "      <td>1.000000</td>\n",
              "      <td>0.231432</td>\n",
              "    </tr>\n",
              "    <tr>\n",
              "      <th>Sales</th>\n",
              "      <td>0.782224</td>\n",
              "      <td>0.576223</td>\n",
              "      <td>0.231432</td>\n",
              "      <td>1.000000</td>\n",
              "    </tr>\n",
              "  </tbody>\n",
              "</table>\n",
              "</div>\n",
              "    <div class=\"colab-df-buttons\">\n",
              "\n",
              "  <div class=\"colab-df-container\">\n",
              "    <button class=\"colab-df-convert\" onclick=\"convertToInteractive('df-bd988e2d-7cae-4eed-826a-aa9e022012b2')\"\n",
              "            title=\"Convert this dataframe to an interactive table.\"\n",
              "            style=\"display:none;\">\n",
              "\n",
              "  <svg xmlns=\"http://www.w3.org/2000/svg\" height=\"24px\" viewBox=\"0 -960 960 960\">\n",
              "    <path d=\"M120-120v-720h720v720H120Zm60-500h600v-160H180v160Zm220 220h160v-160H400v160Zm0 220h160v-160H400v160ZM180-400h160v-160H180v160Zm440 0h160v-160H620v160ZM180-180h160v-160H180v160Zm440 0h160v-160H620v160Z\"/>\n",
              "  </svg>\n",
              "    </button>\n",
              "\n",
              "  <style>\n",
              "    .colab-df-container {\n",
              "      display:flex;\n",
              "      gap: 12px;\n",
              "    }\n",
              "\n",
              "    .colab-df-convert {\n",
              "      background-color: #E8F0FE;\n",
              "      border: none;\n",
              "      border-radius: 50%;\n",
              "      cursor: pointer;\n",
              "      display: none;\n",
              "      fill: #1967D2;\n",
              "      height: 32px;\n",
              "      padding: 0 0 0 0;\n",
              "      width: 32px;\n",
              "    }\n",
              "\n",
              "    .colab-df-convert:hover {\n",
              "      background-color: #E2EBFA;\n",
              "      box-shadow: 0px 1px 2px rgba(60, 64, 67, 0.3), 0px 1px 3px 1px rgba(60, 64, 67, 0.15);\n",
              "      fill: #174EA6;\n",
              "    }\n",
              "\n",
              "    .colab-df-buttons div {\n",
              "      margin-bottom: 4px;\n",
              "    }\n",
              "\n",
              "    [theme=dark] .colab-df-convert {\n",
              "      background-color: #3B4455;\n",
              "      fill: #D2E3FC;\n",
              "    }\n",
              "\n",
              "    [theme=dark] .colab-df-convert:hover {\n",
              "      background-color: #434B5C;\n",
              "      box-shadow: 0px 1px 3px 1px rgba(0, 0, 0, 0.15);\n",
              "      filter: drop-shadow(0px 1px 2px rgba(0, 0, 0, 0.3));\n",
              "      fill: #FFFFFF;\n",
              "    }\n",
              "  </style>\n",
              "\n",
              "    <script>\n",
              "      const buttonEl =\n",
              "        document.querySelector('#df-bd988e2d-7cae-4eed-826a-aa9e022012b2 button.colab-df-convert');\n",
              "      buttonEl.style.display =\n",
              "        google.colab.kernel.accessAllowed ? 'block' : 'none';\n",
              "\n",
              "      async function convertToInteractive(key) {\n",
              "        const element = document.querySelector('#df-bd988e2d-7cae-4eed-826a-aa9e022012b2');\n",
              "        const dataTable =\n",
              "          await google.colab.kernel.invokeFunction('convertToInteractive',\n",
              "                                                    [key], {});\n",
              "        if (!dataTable) return;\n",
              "\n",
              "        const docLinkHtml = 'Like what you see? Visit the ' +\n",
              "          '<a target=\"_blank\" href=https://colab.research.google.com/notebooks/data_table.ipynb>data table notebook</a>'\n",
              "          + ' to learn more about interactive tables.';\n",
              "        element.innerHTML = '';\n",
              "        dataTable['output_type'] = 'display_data';\n",
              "        await google.colab.output.renderOutput(dataTable, element);\n",
              "        const docLink = document.createElement('div');\n",
              "        docLink.innerHTML = docLinkHtml;\n",
              "        element.appendChild(docLink);\n",
              "      }\n",
              "    </script>\n",
              "  </div>\n",
              "\n",
              "\n",
              "<div id=\"df-0c9f4e47-6591-4fcb-8249-4e35a996b798\">\n",
              "  <button class=\"colab-df-quickchart\" onclick=\"quickchart('df-0c9f4e47-6591-4fcb-8249-4e35a996b798')\"\n",
              "            title=\"Suggest charts\"\n",
              "            style=\"display:none;\">\n",
              "\n",
              "<svg xmlns=\"http://www.w3.org/2000/svg\" height=\"24px\"viewBox=\"0 0 24 24\"\n",
              "     width=\"24px\">\n",
              "    <g>\n",
              "        <path d=\"M19 3H5c-1.1 0-2 .9-2 2v14c0 1.1.9 2 2 2h14c1.1 0 2-.9 2-2V5c0-1.1-.9-2-2-2zM9 17H7v-7h2v7zm4 0h-2V7h2v10zm4 0h-2v-4h2v4z\"/>\n",
              "    </g>\n",
              "</svg>\n",
              "  </button>\n",
              "\n",
              "<style>\n",
              "  .colab-df-quickchart {\n",
              "      --bg-color: #E8F0FE;\n",
              "      --fill-color: #1967D2;\n",
              "      --hover-bg-color: #E2EBFA;\n",
              "      --hover-fill-color: #174EA6;\n",
              "      --disabled-fill-color: #AAA;\n",
              "      --disabled-bg-color: #DDD;\n",
              "  }\n",
              "\n",
              "  [theme=dark] .colab-df-quickchart {\n",
              "      --bg-color: #3B4455;\n",
              "      --fill-color: #D2E3FC;\n",
              "      --hover-bg-color: #434B5C;\n",
              "      --hover-fill-color: #FFFFFF;\n",
              "      --disabled-bg-color: #3B4455;\n",
              "      --disabled-fill-color: #666;\n",
              "  }\n",
              "\n",
              "  .colab-df-quickchart {\n",
              "    background-color: var(--bg-color);\n",
              "    border: none;\n",
              "    border-radius: 50%;\n",
              "    cursor: pointer;\n",
              "    display: none;\n",
              "    fill: var(--fill-color);\n",
              "    height: 32px;\n",
              "    padding: 0;\n",
              "    width: 32px;\n",
              "  }\n",
              "\n",
              "  .colab-df-quickchart:hover {\n",
              "    background-color: var(--hover-bg-color);\n",
              "    box-shadow: 0 1px 2px rgba(60, 64, 67, 0.3), 0 1px 3px 1px rgba(60, 64, 67, 0.15);\n",
              "    fill: var(--button-hover-fill-color);\n",
              "  }\n",
              "\n",
              "  .colab-df-quickchart-complete:disabled,\n",
              "  .colab-df-quickchart-complete:disabled:hover {\n",
              "    background-color: var(--disabled-bg-color);\n",
              "    fill: var(--disabled-fill-color);\n",
              "    box-shadow: none;\n",
              "  }\n",
              "\n",
              "  .colab-df-spinner {\n",
              "    border: 2px solid var(--fill-color);\n",
              "    border-color: transparent;\n",
              "    border-bottom-color: var(--fill-color);\n",
              "    animation:\n",
              "      spin 1s steps(1) infinite;\n",
              "  }\n",
              "\n",
              "  @keyframes spin {\n",
              "    0% {\n",
              "      border-color: transparent;\n",
              "      border-bottom-color: var(--fill-color);\n",
              "      border-left-color: var(--fill-color);\n",
              "    }\n",
              "    20% {\n",
              "      border-color: transparent;\n",
              "      border-left-color: var(--fill-color);\n",
              "      border-top-color: var(--fill-color);\n",
              "    }\n",
              "    30% {\n",
              "      border-color: transparent;\n",
              "      border-left-color: var(--fill-color);\n",
              "      border-top-color: var(--fill-color);\n",
              "      border-right-color: var(--fill-color);\n",
              "    }\n",
              "    40% {\n",
              "      border-color: transparent;\n",
              "      border-right-color: var(--fill-color);\n",
              "      border-top-color: var(--fill-color);\n",
              "    }\n",
              "    60% {\n",
              "      border-color: transparent;\n",
              "      border-right-color: var(--fill-color);\n",
              "    }\n",
              "    80% {\n",
              "      border-color: transparent;\n",
              "      border-right-color: var(--fill-color);\n",
              "      border-bottom-color: var(--fill-color);\n",
              "    }\n",
              "    90% {\n",
              "      border-color: transparent;\n",
              "      border-bottom-color: var(--fill-color);\n",
              "    }\n",
              "  }\n",
              "</style>\n",
              "\n",
              "  <script>\n",
              "    async function quickchart(key) {\n",
              "      const quickchartButtonEl =\n",
              "        document.querySelector('#' + key + ' button');\n",
              "      quickchartButtonEl.disabled = true;  // To prevent multiple clicks.\n",
              "      quickchartButtonEl.classList.add('colab-df-spinner');\n",
              "      try {\n",
              "        const charts = await google.colab.kernel.invokeFunction(\n",
              "            'suggestCharts', [key], {});\n",
              "      } catch (error) {\n",
              "        console.error('Error during call to suggestCharts:', error);\n",
              "      }\n",
              "      quickchartButtonEl.classList.remove('colab-df-spinner');\n",
              "      quickchartButtonEl.classList.add('colab-df-quickchart-complete');\n",
              "    }\n",
              "    (() => {\n",
              "      let quickchartButtonEl =\n",
              "        document.querySelector('#df-0c9f4e47-6591-4fcb-8249-4e35a996b798 button');\n",
              "      quickchartButtonEl.style.display =\n",
              "        google.colab.kernel.accessAllowed ? 'block' : 'none';\n",
              "    })();\n",
              "  </script>\n",
              "</div>\n",
              "\n",
              "    </div>\n",
              "  </div>\n"
            ],
            "application/vnd.google.colaboratory.intrinsic+json": {
              "type": "dataframe",
              "summary": "{\n  \"name\": \"df\",\n  \"rows\": 4,\n  \"fields\": [\n    {\n      \"column\": \"TV\",\n      \"properties\": {\n        \"dtype\": \"number\",\n        \"std\": 0.48967858110529644,\n        \"min\": 0.05480866446583008,\n        \"max\": 1.0,\n        \"num_unique_values\": 4,\n        \"samples\": [\n          0.05480866446583008,\n          0.7822244248616067,\n          1.0\n        ],\n        \"semantic_type\": \"\",\n        \"description\": \"\"\n      }\n    },\n    {\n      \"column\": \"Radio\",\n      \"properties\": {\n        \"dtype\": \"number\",\n        \"std\": 0.3977906761978549,\n        \"min\": 0.05480866446583008,\n        \"max\": 1.0,\n        \"num_unique_values\": 4,\n        \"samples\": [\n          1.0,\n          0.5762225745710555,\n          0.05480866446583008\n        ],\n        \"semantic_type\": \"\",\n        \"description\": \"\"\n      }\n    },\n    {\n      \"column\": \"Newspaper\",\n      \"properties\": {\n        \"dtype\": \"number\",\n        \"std\": 0.4106375797524025,\n        \"min\": 0.05932458658040305,\n        \"max\": 1.0,\n        \"num_unique_values\": 4,\n        \"samples\": [\n          0.35595344604430507,\n          0.23143167917752488,\n          0.05932458658040305\n        ],\n        \"semantic_type\": \"\",\n        \"description\": \"\"\n      }\n    },\n    {\n      \"column\": \"Sales\",\n      \"properties\": {\n        \"dtype\": \"number\",\n        \"std\": 0.3269047954896469,\n        \"min\": 0.23143167917752488,\n        \"max\": 1.0,\n        \"num_unique_values\": 4,\n        \"samples\": [\n          0.5762225745710555,\n          1.0,\n          0.7822244248616067\n        ],\n        \"semantic_type\": \"\",\n        \"description\": \"\"\n      }\n    }\n  ]\n}"
            }
          },
          "metadata": {},
          "execution_count": 29
        }
      ]
    },
    {
      "cell_type": "markdown",
      "source": [
        "**STEP 3: DATA VISUALIZATION**"
      ],
      "metadata": {
        "id": "pdtgiPACff6s"
      }
    },
    {
      "cell_type": "code",
      "source": [
        "# Let's see how Sales are related with other variables using scatter plot.\n",
        "sns.pairplot(df, x_vars=['TV', 'Newspaper', 'Radio'], y_vars='Sales', height=4, aspect=1, kind='scatter')\n",
        "plt.show()"
      ],
      "metadata": {
        "colab": {
          "base_uri": "https://localhost:8080/",
          "height": 415
        },
        "id": "urP2HAJHfkRw",
        "outputId": "d3943f93-bd13-484d-b0c7-a1e9f237ec52"
      },
      "execution_count": null,
      "outputs": [
        {
          "output_type": "display_data",
          "data": {
            "text/plain": [
              "<Figure size 1200x400 with 3 Axes>"
            ],
            "image/png": "[encoded data removed]"
          },
          "metadata": {}
        }
      ]
    },
    {
      "cell_type": "code",
      "source": [
        "sns.heatmap(df.corr(),annot = True)"
      ],
      "metadata": {
        "colab": {
          "base_uri": "https://localhost:8080/",
          "height": 452
        },
        "id": "SW_A4PdvfrmG",
        "outputId": "79c760bf-a28f-43ff-e320-afac3691b09e"
      },
      "execution_count": null,
      "outputs": [
        {
          "output_type": "execute_result",
          "data": {
            "text/plain": [
              "<Axes: >"
            ]
          },
          "metadata": {},
          "execution_count": 31
        },
        {
          "output_type": "display_data",
          "data": {
            "text/plain": [
              "<Figure size 640x480 with 2 Axes>"
            ],
            "image/png": "[encoded data removed]"
          },
          "metadata": {}
        }
      ]
    },
    {
      "cell_type": "markdown",
      "source": [
        "**TV have 78% strong positve correlation with Sales**\n",
        "\n",
        "*  TV have high impact on Sales.\n",
        "*  There is no colinearity in data, So every platform is independent."
      ],
      "metadata": {
        "id": "qwHVlms1fylC"
      }
    },
    {
      "cell_type": "markdown",
      "source": [
        "**STEP 4: MULTI COLLINEARITY**"
      ],
      "metadata": {
        "id": "DVHawIv0gLrT"
      }
    },
    {
      "cell_type": "code",
      "source": [
        "X1=df.drop(['Sales'],axis=1)\n",
        "series_before = pd.Series([variance_inflation_factor(X1.values, i)\n",
        "                           for i in range(X1.shape[1])],  # i=0,1,2\n",
        "                          index=X1.columns)  # column name\n",
        "series_before"
      ],
      "metadata": {
        "colab": {
          "base_uri": "https://localhost:8080/"
        },
        "id": "eAmRfOzKghPa",
        "outputId": "712f8d62-daea-48a6-a54b-bfbc875363a6"
      },
      "execution_count": null,
      "outputs": [
        {
          "output_type": "execute_result",
          "data": {
            "text/plain": [
              "TV           2.500402\n",
              "Radio        3.304735\n",
              "Newspaper    3.115816\n",
              "dtype: float64"
            ]
          },
          "metadata": {},
          "execution_count": 32
        }
      ]
    },
    {
      "cell_type": "markdown",
      "source": [
        "**STEP 5 : DATA PARTITION**"
      ],
      "metadata": {
        "id": "c4q3xhxKgoT0"
      }
    },
    {
      "cell_type": "code",
      "source": [
        "# Putting feature variable to X\n",
        "X = df.drop('Sales', axis= 1)\n",
        "\n",
        "# Putting response variable to y\n",
        "y = df[['Sales']]\n",
        "\n",
        "#random_state is the seed used by the random number generator. It can be any integer.\n",
        "from sklearn.model_selection import train_test_split\n",
        "X_train, X_test, y_train, y_test =train_test_split(X, y, train_size=0.7 ,random_state=120)"
      ],
      "metadata": {
        "id": "FJsi3bwCgsSu"
      },
      "execution_count": null,
      "outputs": []
    },
    {
      "cell_type": "markdown",
      "source": [
        "* No collinearity in the data, indicate no multi colinearity"
      ],
      "metadata": {
        "id": "kux789zRgwjk"
      }
    },
    {
      "cell_type": "markdown",
      "source": [
        "**STEP 6: MODEL BUILDING**"
      ],
      "metadata": {
        "id": "5_Z5txKwg6zg"
      }
    },
    {
      "cell_type": "markdown",
      "source": [
        "* H0 :- There is no Linear relationship between sales and tv , radio & newspaper\n",
        "\n",
        "* Vs\n",
        "\n",
        "* H1 :- There is Linear relationship between sales and tv , radio & newspaper\n",
        "\n",
        "Alpha = 0.05 (5%)\n",
        "\n"
      ],
      "metadata": {
        "id": "qAMs4ZOsg-KU"
      }
    },
    {
      "cell_type": "code",
      "source": [
        "import statsmodels.formula.api as smf\n",
        "model = smf.ols('Sales ~ TV + Radio + Newspaper',data=df).fit()\n",
        "model.summary()"
      ],
      "metadata": {
        "colab": {
          "base_uri": "https://localhost:8080/",
          "height": 486
        },
        "id": "WiE07vd_hJml",
        "outputId": "7ee02881-c1d5-438a-ce5b-597835df0b75"
      },
      "execution_count": null,
      "outputs": [
        {
          "output_type": "execute_result",
          "data": {
            "text/plain": [
              "<class 'statsmodels.iolib.summary.Summary'>\n",
              "\"\"\"\n",
              "                            OLS Regression Results                            \n",
              "==============================================================================\n",
              "Dep. Variable:                  Sales   R-squared:                       0.897\n",
              "Model:                            OLS   Adj. R-squared:                  0.896\n",
              "Method:                 Least Squares   F-statistic:                     570.3\n",
              "Date:                Sun, 28 Apr 2024   Prob (F-statistic):           1.58e-96\n",
              "Time:                        11:44:12   Log-Likelihood:                -386.18\n",
              "No. Observations:                 200   AIC:                             780.4\n",
              "Df Residuals:                     196   BIC:                             793.6\n",
              "Df Model:                           3                                         \n",
              "Covariance Type:            nonrobust                                         \n",
              "==============================================================================\n",
              "                 coef    std err          t      P>|t|      [0.025      0.975]\n",
              "------------------------------------------------------------------------------\n",
              "Intercept      2.9387      0.313      9.400      0.000       2.322       3.555\n",
              "TV             0.0458      0.001     32.805      0.000       0.043       0.049\n",
              "Radio          0.1885      0.009     21.876      0.000       0.172       0.206\n",
              "Newspaper     -0.0010      0.006     -0.171      0.864      -0.013       0.011\n",
              "==============================================================================\n",
              "Omnibus:                       60.392   Durbin-Watson:                   2.084\n",
              "Prob(Omnibus):                  0.000   Jarque-Bera (JB):              151.131\n",
              "Skew:                          -1.327   Prob(JB):                     1.52e-33\n",
              "Kurtosis:                       6.330   Cond. No.                         455.\n",
              "==============================================================================\n",
              "\n",
              "Notes:\n",
              "[1] Standard Errors assume that the covariance matrix of the errors is correctly specified.\n",
              "\"\"\""
            ],
            "text/html": [
              "<table class=\"simpletable\">\n",
              "<caption>OLS Regression Results</caption>\n",
              "<tr>\n",
              "  <th>Dep. Variable:</th>          <td>Sales</td>      <th>  R-squared:         </th> <td>   0.897</td>\n",
              "</tr>\n",
              "<tr>\n",
              "  <th>Model:</th>                   <td>OLS</td>       <th>  Adj. R-squared:    </th> <td>   0.896</td>\n",
              "</tr>\n",
              "<tr>\n",
              "  <th>Method:</th>             <td>Least Squares</td>  <th>  F-statistic:       </th> <td>   570.3</td>\n",
              "</tr>\n",
              "<tr>\n",
              "  <th>Date:</th>             <td>Sun, 28 Apr 2024</td> <th>  Prob (F-statistic):</th> <td>1.58e-96</td>\n",
              "</tr>\n",
              "<tr>\n",
              "  <th>Time:</th>                 <td>11:44:12</td>     <th>  Log-Likelihood:    </th> <td> -386.18</td>\n",
              "</tr>\n",
              "<tr>\n",
              "  <th>No. Observations:</th>      <td>   200</td>      <th>  AIC:               </th> <td>   780.4</td>\n",
              "</tr>\n",
              "<tr>\n",
              "  <th>Df Residuals:</th>          <td>   196</td>      <th>  BIC:               </th> <td>   793.6</td>\n",
              "</tr>\n",
              "<tr>\n",
              "  <th>Df Model:</th>              <td>     3</td>      <th>                     </th>     <td> </td>   \n",
              "</tr>\n",
              "<tr>\n",
              "  <th>Covariance Type:</th>      <td>nonrobust</td>    <th>                     </th>     <td> </td>   \n",
              "</tr>\n",
              "</table>\n",
              "<table class=\"simpletable\">\n",
              "<tr>\n",
              "      <td></td>         <th>coef</th>     <th>std err</th>      <th>t</th>      <th>P>|t|</th>  <th>[0.025</th>    <th>0.975]</th>  \n",
              "</tr>\n",
              "<tr>\n",
              "  <th>Intercept</th> <td>    2.9387</td> <td>    0.313</td> <td>    9.400</td> <td> 0.000</td> <td>    2.322</td> <td>    3.555</td>\n",
              "</tr>\n",
              "<tr>\n",
              "  <th>TV</th>        <td>    0.0458</td> <td>    0.001</td> <td>   32.805</td> <td> 0.000</td> <td>    0.043</td> <td>    0.049</td>\n",
              "</tr>\n",
              "<tr>\n",
              "  <th>Radio</th>     <td>    0.1885</td> <td>    0.009</td> <td>   21.876</td> <td> 0.000</td> <td>    0.172</td> <td>    0.206</td>\n",
              "</tr>\n",
              "<tr>\n",
              "  <th>Newspaper</th> <td>   -0.0010</td> <td>    0.006</td> <td>   -0.171</td> <td> 0.864</td> <td>   -0.013</td> <td>    0.011</td>\n",
              "</tr>\n",
              "</table>\n",
              "<table class=\"simpletable\">\n",
              "<tr>\n",
              "  <th>Omnibus:</th>       <td>60.392</td> <th>  Durbin-Watson:     </th> <td>   2.084</td>\n",
              "</tr>\n",
              "<tr>\n",
              "  <th>Prob(Omnibus):</th> <td> 0.000</td> <th>  Jarque-Bera (JB):  </th> <td> 151.131</td>\n",
              "</tr>\n",
              "<tr>\n",
              "  <th>Skew:</th>          <td>-1.327</td> <th>  Prob(JB):          </th> <td>1.52e-33</td>\n",
              "</tr>\n",
              "<tr>\n",
              "  <th>Kurtosis:</th>      <td> 6.330</td> <th>  Cond. No.          </th> <td>    455.</td>\n",
              "</tr>\n",
              "</table><br/><br/>Notes:<br/>[1] Standard Errors assume that the covariance matrix of the errors is correctly specified."
            ],
            "text/latex": "\\begin{center}\n\\begin{tabular}{lclc}\n\\toprule\n\\textbf{Dep. Variable:}    &      Sales       & \\textbf{  R-squared:         } &     0.897   \\\\\n\\textbf{Model:}            &       OLS        & \\textbf{  Adj. R-squared:    } &     0.896   \\\\\n\\textbf{Method:}           &  Least Squares   & \\textbf{  F-statistic:       } &     570.3   \\\\\n\\textbf{Date:}             & Sun, 28 Apr 2024 & \\textbf{  Prob (F-statistic):} &  1.58e-96   \\\\\n\\textbf{Time:}             &     11:44:12     & \\textbf{  Log-Likelihood:    } &   -386.18   \\\\\n\\textbf{No. Observations:} &         200      & \\textbf{  AIC:               } &     780.4   \\\\\n\\textbf{Df Residuals:}     &         196      & \\textbf{  BIC:               } &     793.6   \\\\\n\\textbf{Df Model:}         &           3      & \\textbf{                     } &             \\\\\n\\textbf{Covariance Type:}  &    nonrobust     & \\textbf{                     } &             \\\\\n\\bottomrule\n\\end{tabular}\n\\begin{tabular}{lcccccc}\n                   & \\textbf{coef} & \\textbf{std err} & \\textbf{t} & \\textbf{P$> |$t$|$} & \\textbf{[0.025} & \\textbf{0.975]}  \\\\\n\\midrule\n\\textbf{Intercept} &       2.9387  &        0.313     &     9.400  &         0.000        &        2.322    &        3.555     \\\\\n\\textbf{TV}        &       0.0458  &        0.001     &    32.805  &         0.000        &        0.043    &        0.049     \\\\\n\\textbf{Radio}     &       0.1885  &        0.009     &    21.876  &         0.000        &        0.172    &        0.206     \\\\\n\\textbf{Newspaper} &      -0.0010  &        0.006     &    -0.171  &         0.864        &       -0.013    &        0.011     \\\\\n\\bottomrule\n\\end{tabular}\n\\begin{tabular}{lclc}\n\\textbf{Omnibus:}       & 60.392 & \\textbf{  Durbin-Watson:     } &    2.084  \\\\\n\\textbf{Prob(Omnibus):} &  0.000 & \\textbf{  Jarque-Bera (JB):  } &  151.131  \\\\\n\\textbf{Skew:}          & -1.327 & \\textbf{  Prob(JB):          } & 1.52e-33  \\\\\n\\textbf{Kurtosis:}      &  6.330 & \\textbf{  Cond. No.          } &     455.  \\\\\n\\bottomrule\n\\end{tabular}\n%\\caption{OLS Regression Results}\n\\end{center}\n\nNotes: \\newline\n [1] Standard Errors assume that the covariance matrix of the errors is correctly specified."
          },
          "metadata": {},
          "execution_count": 34
        }
      ]
    },
    {
      "cell_type": "markdown",
      "source": [
        "* There is Linear relationship between sales and tv , radio\n",
        "\n",
        "* 91% is accuracy of model , so we say model is good fit\n",
        "* Y = 2.9211 + 0.0458 * TV + 0.1880 * Radio"
      ],
      "metadata": {
        "id": "ktiYij2ghetq"
      }
    },
    {
      "cell_type": "markdown",
      "source": [
        "**6.1_ASSUMPTION OF MODEL**"
      ],
      "metadata": {
        "id": "TI1pFAsbhvJl"
      }
    },
    {
      "cell_type": "markdown",
      "source": [
        "* Linearity\n",
        "* Normality\n",
        "* Homoscedasicity\n",
        "* Model Error has to be independently identificaly Distibuted"
      ],
      "metadata": {
        "id": "gPYRrY65h3lW"
      }
    },
    {
      "cell_type": "markdown",
      "source": [
        "**6.2_LINEARITY**"
      ],
      "metadata": {
        "id": "4a078zjhjatI"
      }
    },
    {
      "cell_type": "code",
      "source": [
        "df.plot.scatter(x='TV', y='Sales', title='Sales vs TV')"
      ],
      "metadata": {
        "colab": {
          "base_uri": "https://localhost:8080/",
          "height": 489
        },
        "id": "HlK3ngEAjVJ2",
        "outputId": "87d2a657-a3e8-49b2-87d2-c5199fce11d1"
      },
      "execution_count": null,
      "outputs": [
        {
          "output_type": "execute_result",
          "data": {
            "text/plain": [
              "<Axes: title={'center': 'Sales vs TV'}, xlabel='TV', ylabel='Sales'>"
            ]
          },
          "metadata": {},
          "execution_count": 41
        },
        {
          "output_type": "display_data",
          "data": {
            "text/plain": [
              "<Figure size 640x480 with 1 Axes>"
            ],
            "image/png": "[encoded data removed]"
          },
          "metadata": {}
        }
      ]
    },
    {
      "cell_type": "markdown",
      "source": [
        "**6.2 Homoscedasicity**"
      ],
      "metadata": {
        "id": "NX1alcOGjo-N"
      }
    },
    {
      "cell_type": "markdown",
      "source": [
        "**6.3 : NORMALITY**"
      ],
      "metadata": {
        "id": "FjmZWiewoxO9"
      }
    },
    {
      "cell_type": "markdown",
      "source": [
        "**6.4 : MODEL ERROR IID**"
      ],
      "metadata": {
        "id": "NNwiy-T0oh81"
      }
    },
    {
      "cell_type": "code",
      "source": [
        "print(X_train)"
      ],
      "metadata": {
        "colab": {
          "base_uri": "https://localhost:8080/"
        },
        "id": "_hRjre4qnJdQ",
        "outputId": "45cdddbf-24ea-493b-89c1-b144e4d2eb9e"
      },
      "execution_count": null,
      "outputs": [
        {
          "output_type": "stream",
          "name": "stdout",
          "text": [
            "        TV  Radio  Newspaper\n",
            "111  241.7   38.0       23.2\n",
            "156   93.9   43.5       50.5\n",
            "140   73.4   17.0       12.9\n",
            "171  164.5   20.9       47.4\n",
            "157  149.8    1.3       24.3\n",
            "..     ...    ...        ...\n",
            "10    66.1    5.8       24.2\n",
            "126    7.8   38.9       50.6\n",
            "158   11.7   36.9       45.2\n",
            "0    230.1   37.8       69.2\n",
            "167  206.8    5.2       19.4\n",
            "\n",
            "[140 rows x 3 columns]\n"
          ]
        }
      ]
    },
    {
      "cell_type": "code",
      "source": [
        "print(y_train)"
      ],
      "metadata": {
        "colab": {
          "base_uri": "https://localhost:8080/"
        },
        "id": "ETtQmsHSnY-a",
        "outputId": "edbe8ea1-b5dc-4ef0-92c4-5d1f372658e3"
      },
      "execution_count": null,
      "outputs": [
        {
          "output_type": "stream",
          "name": "stdout",
          "text": [
            "     Sales\n",
            "111   21.8\n",
            "156   15.3\n",
            "140   10.9\n",
            "171   14.5\n",
            "157   10.1\n",
            "..     ...\n",
            "10     8.6\n",
            "126    6.6\n",
            "158    7.3\n",
            "0     22.1\n",
            "167   12.2\n",
            "\n",
            "[140 rows x 1 columns]\n"
          ]
        }
      ]
    },
    {
      "cell_type": "code",
      "source": [
        "print(X_test)"
      ],
      "metadata": {
        "colab": {
          "base_uri": "https://localhost:8080/"
        },
        "id": "dCYwAe7Ing4S",
        "outputId": "6d842a2e-3ea5-405a-fa54-51fed1672fb5"
      },
      "execution_count": null,
      "outputs": [
        {
          "output_type": "stream",
          "name": "stdout",
          "text": [
            "        TV  Radio  Newspaper\n",
            "87   110.7   40.6     63.200\n",
            "118  125.7   36.9     79.200\n",
            "80    76.4   26.7     22.300\n",
            "198  283.6   42.0     66.200\n",
            "62   239.3   15.5     27.300\n",
            "108   13.1    0.4     25.600\n",
            "101  296.4   36.3     93.625\n",
            "199  232.1    8.6      8.700\n",
            "32    97.2    1.5     30.000\n",
            "178  276.7    2.3     23.700\n",
            "35   290.7    4.1      8.500\n",
            "125   87.2   11.8     25.900\n",
            "163  163.5   36.8      7.400\n",
            "160  172.5   18.1     30.700\n",
            "161   85.7   35.8     49.300\n",
            "46    89.7    9.9     35.700\n",
            "74   213.4   24.6     13.100\n",
            "136   25.6   39.0      9.300\n",
            "6     57.5   32.8     23.500\n",
            "39   228.0   37.7     32.000\n",
            "1     44.5   39.3     45.100\n",
            "191   75.5   10.8      6.000\n",
            "41   177.0   33.4     38.700\n",
            "20   218.4   27.7     53.400\n",
            "131  265.2    2.9     43.000\n",
            "103  187.9   17.2     17.900\n",
            "109  255.4   26.9      5.500\n",
            "73   129.4    5.7     31.300\n",
            "166   17.9   37.6     21.600\n",
            "5      8.7   48.9     75.000\n",
            "82    75.3   20.3     32.500\n",
            "76    27.5    1.6     20.700\n",
            "91    28.6    1.5     33.000\n",
            "81   239.8    4.1     36.900\n",
            "183  287.6   43.0     71.800\n",
            "9    199.8    2.6     21.200\n",
            "110  225.8    8.2     56.500\n",
            "64   131.1   42.8     28.900\n",
            "2     17.2   45.9     69.300\n",
            "38    43.1   26.7     35.100\n",
            "75    16.9   43.7     89.400\n",
            "102  280.2   10.1     21.400\n",
            "13    97.5    7.6      7.200\n",
            "146  240.1    7.3      8.700\n",
            "45   175.1   22.5     31.500\n",
            "188  286.0   13.9      3.700\n",
            "17   281.4   39.6     55.800\n",
            "7    120.2   19.6     11.600\n",
            "152  197.6   23.3     14.200\n",
            "83    68.4   44.5     35.600\n",
            "100  222.4    4.3     49.800\n",
            "90   134.3    4.9      9.300\n",
            "187  191.1   28.7     18.200\n",
            "19   147.3   23.9     19.100\n",
            "69   216.8   43.9     27.200\n",
            "168  215.4   23.6     57.600\n",
            "18    69.2   20.5     18.300\n",
            "48   227.2   15.8     49.900\n",
            "170   50.0   11.6     18.400\n",
            "53   182.6   46.2     58.700\n"
          ]
        }
      ]
    },
    {
      "cell_type": "code",
      "source": [
        "print(y_test)"
      ],
      "metadata": {
        "colab": {
          "base_uri": "https://localhost:8080/"
        },
        "id": "o013F3M7njKJ",
        "outputId": "90941bc1-0b2c-4ea3-e10a-e1fa78e3372e"
      },
      "execution_count": null,
      "outputs": [
        {
          "output_type": "stream",
          "name": "stdout",
          "text": [
            "     Sales\n",
            "87    16.0\n",
            "118   15.9\n",
            "80    11.8\n",
            "198   25.5\n",
            "62    15.7\n",
            "108    5.3\n",
            "101   23.8\n",
            "199   13.4\n",
            "32     9.6\n",
            "178   11.8\n",
            "35    12.8\n",
            "125   10.6\n",
            "163   18.0\n",
            "160   14.4\n",
            "161   13.3\n",
            "46    10.6\n",
            "74    17.0\n",
            "136    9.5\n",
            "6     11.8\n",
            "39    21.5\n",
            "1     10.4\n",
            "191    9.9\n",
            "41    17.1\n",
            "20    18.0\n",
            "131   12.7\n",
            "103   14.7\n",
            "109   19.8\n",
            "73    11.0\n",
            "166    8.0\n",
            "5      7.2\n",
            "82    11.3\n",
            "76     6.9\n",
            "91     7.3\n",
            "81    12.3\n",
            "183   26.2\n",
            "9     10.6\n",
            "110   13.4\n",
            "64    18.0\n",
            "2      9.3\n",
            "38    10.1\n",
            "75     8.7\n",
            "102   14.8\n",
            "13     9.7\n",
            "146   13.2\n",
            "45    14.9\n",
            "188   15.9\n",
            "17    24.4\n",
            "7     13.2\n",
            "152   16.6\n",
            "83    13.6\n",
            "100   11.7\n",
            "90    11.2\n",
            "187   17.3\n",
            "19    14.6\n",
            "69    22.3\n",
            "168   17.1\n",
            "18    11.3\n",
            "48    14.8\n",
            "170    8.4\n",
            "53    21.2\n"
          ]
        }
      ]
    },
    {
      "cell_type": "code",
      "source": [
        "from sklearn.linear_model import LinearRegression\n",
        "model = LinearRegression()\n",
        "model.fit(X_train,y_train)"
      ],
      "metadata": {
        "colab": {
          "base_uri": "https://localhost:8080/",
          "height": 51
        },
        "id": "dhXTHNG9nuO7",
        "outputId": "a86279c2-313c-433a-b372-f80be529a385"
      },
      "execution_count": null,
      "outputs": [
        {
          "output_type": "execute_result",
          "data": {
            "text/plain": [
              "LinearRegression()"
            ],
            "text/html": [
              "<style>#sk-container-id-1 {color: black;background-color: white;}#sk-container-id-1 pre{padding: 0;}#sk-container-id-1 div.sk-toggleable {background-color: white;}#sk-container-id-1 label.sk-toggleable__label {cursor: pointer;display: block;width: 100%;margin-bottom: 0;padding: 0.3em;box-sizing: border-box;text-align: center;}#sk-container-id-1 label.sk-toggleable__label-arrow:before {content: \"▸\";float: left;margin-right: 0.25em;color: #696969;}#sk-container-id-1 label.sk-toggleable__label-arrow:hover:before {color: black;}#sk-container-id-1 div.sk-estimator:hover label.sk-toggleable__label-arrow:before {color: black;}#sk-container-id-1 div.sk-toggleable__content {max-height: 0;max-width: 0;overflow: hidden;text-align: left;background-color: #f0f8ff;}#sk-container-id-1 div.sk-toggleable__content pre {margin: 0.2em;color: black;border-radius: 0.25em;background-color: #f0f8ff;}#sk-container-id-1 input.sk-toggleable__control:checked~div.sk-toggleable__content {max-height: 200px;max-width: 100%;overflow: auto;}#sk-container-id-1 input.sk-toggleable__control:checked~label.sk-toggleable__label-arrow:before {content: \"▾\";}#sk-container-id-1 div.sk-estimator input.sk-toggleable__control:checked~label.sk-toggleable__label {background-color: #d4ebff;}#sk-container-id-1 div.sk-label input.sk-toggleable__control:checked~label.sk-toggleable__label {background-color: #d4ebff;}#sk-container-id-1 input.sk-hidden--visually {border: 0;clip: rect(1px 1px 1px 1px);clip: rect(1px, 1px, 1px, 1px);height: 1px;margin: -1px;overflow: hidden;padding: 0;position: absolute;width: 1px;}#sk-container-id-1 div.sk-estimator {font-family: monospace;background-color: #f0f8ff;border: 1px dotted black;border-radius: 0.25em;box-sizing: border-box;margin-bottom: 0.5em;}#sk-container-id-1 div.sk-estimator:hover {background-color: #d4ebff;}#sk-container-id-1 div.sk-parallel-item::after {content: \"\";width: 100%;border-bottom: 1px solid gray;flex-grow: 1;}#sk-container-id-1 div.sk-label:hover label.sk-toggleable__label {background-color: #d4ebff;}#sk-container-id-1 div.sk-serial::before {content: \"\";position: absolute;border-left: 1px solid gray;box-sizing: border-box;top: 0;bottom: 0;left: 50%;z-index: 0;}#sk-container-id-1 div.sk-serial {display: flex;flex-direction: column;align-items: center;background-color: white;padding-right: 0.2em;padding-left: 0.2em;position: relative;}#sk-container-id-1 div.sk-item {position: relative;z-index: 1;}#sk-container-id-1 div.sk-parallel {display: flex;align-items: stretch;justify-content: center;background-color: white;position: relative;}#sk-container-id-1 div.sk-item::before, #sk-container-id-1 div.sk-parallel-item::before {content: \"\";position: absolute;border-left: 1px solid gray;box-sizing: border-box;top: 0;bottom: 0;left: 50%;z-index: -1;}#sk-container-id-1 div.sk-parallel-item {display: flex;flex-direction: column;z-index: 1;position: relative;background-color: white;}#sk-container-id-1 div.sk-parallel-item:first-child::after {align-self: flex-end;width: 50%;}#sk-container-id-1 div.sk-parallel-item:last-child::after {align-self: flex-start;width: 50%;}#sk-container-id-1 div.sk-parallel-item:only-child::after {width: 0;}#sk-container-id-1 div.sk-dashed-wrapped {border: 1px dashed gray;margin: 0 0.4em 0.5em 0.4em;box-sizing: border-box;padding-bottom: 0.4em;background-color: white;}#sk-container-id-1 div.sk-label label {font-family: monospace;font-weight: bold;display: inline-block;line-height: 1.2em;}#sk-container-id-1 div.sk-label-container {text-align: center;}#sk-container-id-1 div.sk-container {/* jupyter's `normalize.less` sets `[hidden] { display: none; }` but bootstrap.min.css set `[hidden] { display: none !important; }` so we also need the `!important` here to be able to override the default hidden behavior on the sphinx rendered scikit-learn.org. See: https://github.com/scikit-learn/scikit-learn/issues/21755 */display: inline-block !important;position: relative;}#sk-container-id-1 div.sk-text-repr-fallback {display: none;}</style><div id=\"sk-container-id-1\" class=\"sk-top-container\"><div class=\"sk-text-repr-fallback\"><pre>LinearRegression()</pre><b>In a Jupyter environment, please rerun this cell to show the HTML representation or trust the notebook. <br />On GitHub, the HTML representation is unable to render, please try loading this page with nbviewer.org.</b></div><div class=\"sk-container\" hidden><div class=\"sk-item\"><div class=\"sk-estimator sk-toggleable\"><input class=\"sk-toggleable__control sk-hidden--visually\" id=\"sk-estimator-id-1\" type=\"checkbox\" checked><label for=\"sk-estimator-id-1\" class=\"sk-toggleable__label sk-toggleable__label-arrow\">LinearRegression</label><div class=\"sk-toggleable__content\"><pre>LinearRegression()</pre></div></div></div></div></div>"
            ]
          },
          "metadata": {},
          "execution_count": 63
        }
      ]
    },
    {
      "cell_type": "code",
      "source": [
        "res= model.predict(X_test)\n",
        "print(res)"
      ],
      "metadata": {
        "colab": {
          "base_uri": "https://localhost:8080/"
        },
        "id": "FIEslLkQnt-f",
        "outputId": "232f3d93-4716-4be0-cdc0-1146de0daaf1"
      },
      "execution_count": null,
      "outputs": [
        {
          "output_type": "stream",
          "name": "stdout",
          "text": [
            "[[15.75332841]\n",
            " [15.84513821]\n",
            " [11.3974781 ]\n",
            " [24.25254503]\n",
            " [17.10150494]\n",
            " [ 3.54041086]\n",
            " [23.91398069]\n",
            " [15.41345857]\n",
            " [ 7.76312768]\n",
            " [16.43011099]\n",
            " [17.37074015]\n",
            " [ 9.17363628]\n",
            " [17.35124997]\n",
            " [14.41529835]\n",
            " [13.62387212]\n",
            " [ 8.97921377]\n",
            " [17.49502631]\n",
            " [11.20142284]\n",
            " [11.62902532]\n",
            " [20.68139901]\n",
            " [12.29325015]\n",
            " [ 8.35601437]\n",
            " [17.48556663]\n",
            " [18.45957155]\n",
            " [16.06736172]\n",
            " [14.93311864]\n",
            " [19.88971438]\n",
            " [10.07629062]\n",
            " [10.62342478]\n",
            " [12.47652678]\n",
            " [10.20221202]\n",
            " [ 4.42865478]\n",
            " [ 4.50956959]\n",
            " [15.05673009]\n",
            " [24.64900997]\n",
            " [12.81588652]\n",
            " [15.22249684]\n",
            " [16.99940959]\n",
            " [12.30527224]\n",
            " [ 9.86149831]\n",
            " [11.96156197]\n",
            " [18.02835285]\n",
            " [ 8.81674112]\n",
            " [15.55414445]\n",
            " [15.35466744]\n",
            " [18.93849006]\n",
            " [23.66485644]\n",
            " [12.13005501]\n",
            " [16.50715302]\n",
            " [14.35475422]\n",
            " [14.31483042]\n",
            " [10.07765402]\n",
            " [17.21031432]\n",
            " [14.24265486]\n",
            " [21.2749561 ]\n",
            " [17.57568327]\n",
            " [ 9.89452433]\n",
            " [16.66741369]\n",
            " [ 7.33748624]\n",
            " [20.19238655]]\n"
          ]
        }
      ]
    },
    {
      "cell_type": "code",
      "source": [
        "print(\"Accuracy Score: \", model.score(X_test,y_test)*100)"
      ],
      "metadata": {
        "colab": {
          "base_uri": "https://localhost:8080/"
        },
        "id": "B6WHrKoZn49f",
        "outputId": "4c464f04-86ac-456b-b184-685e78438b82"
      },
      "execution_count": null,
      "outputs": [
        {
          "output_type": "stream",
          "name": "stdout",
          "text": [
            "Accuracy Score:  83.6800820009546\n"
          ]
        }
      ]
    },
    {
      "cell_type": "code",
      "source": [
        "model.coef_"
      ],
      "metadata": {
        "colab": {
          "base_uri": "https://localhost:8080/"
        },
        "id": "WBMZ1pNan8h9",
        "outputId": "8e7206b7-acd6-4a8a-8f14-39b85ed2cd67"
      },
      "execution_count": null,
      "outputs": [
        {
          "output_type": "execute_result",
          "data": {
            "text/plain": [
              "array([[0.04759516, 0.1846734 , 0.00382337]])"
            ]
          },
          "metadata": {},
          "execution_count": 66
        }
      ]
    },
    {
      "cell_type": "code",
      "source": [
        "model.intercept_"
      ],
      "metadata": {
        "colab": {
          "base_uri": "https://localhost:8080/"
        },
        "id": "u-kk1KxqoBhV",
        "outputId": "53edc42b-3e7d-4608-9e1d-4ca440a25220"
      },
      "execution_count": null,
      "outputs": [
        {
          "output_type": "execute_result",
          "data": {
            "text/plain": [
              "array([2.74516655])"
            ]
          },
          "metadata": {},
          "execution_count": 67
        }
      ]
    },
    {
      "cell_type": "code",
      "source": [
        "0.05473199* 69.2 + 7.14382225"
      ],
      "metadata": {
        "colab": {
          "base_uri": "https://localhost:8080/"
        },
        "id": "Vv9NcAEmoGVa",
        "outputId": "fca5a421-edfd-4a8d-b002-ba64702f9beb"
      },
      "execution_count": null,
      "outputs": [
        {
          "output_type": "execute_result",
          "data": {
            "text/plain": [
              "10.931275958"
            ]
          },
          "metadata": {},
          "execution_count": 68
        }
      ]
    },
    {
      "cell_type": "code",
      "source": [
        "plt.style.use('dark_background')\n",
        "plt.grid()\n",
        "plt.plot(res)"
      ],
      "metadata": {
        "colab": {
          "base_uri": "https://localhost:8080/",
          "height": 447
        },
        "id": "imifRKYLoLFC",
        "outputId": "57026e72-1547-4c51-d79a-11b76e075d5b"
      },
      "execution_count": null,
      "outputs": [
        {
          "output_type": "execute_result",
          "data": {
            "text/plain": [
              "[<matplotlib.lines.Line2D at 0x7888159bf1f0>]"
            ]
          },
          "metadata": {},
          "execution_count": 69
        },
        {
          "output_type": "display_data",
          "data": {
            "text/plain": [
              "<Figure size 640x480 with 1 Axes>"
            ],
            "image/png": "[encoded data removed]"
          },
          "metadata": {}
        }
      ]
    },
    {
      "cell_type": "markdown",
      "source": [
        "**PREDICTION ON TEST DATA**"
      ],
      "metadata": {
        "id": "0EJDWkSBpRPT"
      }
    },
    {
      "cell_type": "code",
      "source": [
        "df_test=pd.concat([X_test,y_test],axis=1)\n",
        "\n",
        "df_test.head()"
      ],
      "metadata": {
        "colab": {
          "base_uri": "https://localhost:8080/",
          "height": 206
        },
        "id": "FkGfqTXgpUR7",
        "outputId": "bfa4bb70-027b-48d3-d21d-35793195dddb"
      },
      "execution_count": null,
      "outputs": [
        {
          "output_type": "execute_result",
          "data": {
            "text/plain": [
              "        TV  Radio  Newspaper  Sales\n",
              "87   110.7   40.6       63.2   16.0\n",
              "118  125.7   36.9       79.2   15.9\n",
              "80    76.4   26.7       22.3   11.8\n",
              "198  283.6   42.0       66.2   25.5\n",
              "62   239.3   15.5       27.3   15.7"
            ],
            "text/html": [
              "\n",
              "  <div id=\"df-d2f53195-f7f3-4444-8617-fa4edaf4c2d8\" class=\"colab-df-container\">\n",
              "    <div>\n",
              "<style scoped>\n",
              "    .dataframe tbody tr th:only-of-type {\n",
              "        vertical-align: middle;\n",
              "    }\n",
              "\n",
              "    .dataframe tbody tr th {\n",
              "        vertical-align: top;\n",
              "    }\n",
              "\n",
              "    .dataframe thead th {\n",
              "        text-align: right;\n",
              "    }\n",
              "</style>\n",
              "<table border=\"1\" class=\"dataframe\">\n",
              "  <thead>\n",
              "    <tr style=\"text-align: right;\">\n",
              "      <th></th>\n",
              "      <th>TV</th>\n",
              "      <th>Radio</th>\n",
              "      <th>Newspaper</th>\n",
              "      <th>Sales</th>\n",
              "    </tr>\n",
              "  </thead>\n",
              "  <tbody>\n",
              "    <tr>\n",
              "      <th>87</th>\n",
              "      <td>110.7</td>\n",
              "      <td>40.6</td>\n",
              "      <td>63.2</td>\n",
              "      <td>16.0</td>\n",
              "    </tr>\n",
              "    <tr>\n",
              "      <th>118</th>\n",
              "      <td>125.7</td>\n",
              "      <td>36.9</td>\n",
              "      <td>79.2</td>\n",
              "      <td>15.9</td>\n",
              "    </tr>\n",
              "    <tr>\n",
              "      <th>80</th>\n",
              "      <td>76.4</td>\n",
              "      <td>26.7</td>\n",
              "      <td>22.3</td>\n",
              "      <td>11.8</td>\n",
              "    </tr>\n",
              "    <tr>\n",
              "      <th>198</th>\n",
              "      <td>283.6</td>\n",
              "      <td>42.0</td>\n",
              "      <td>66.2</td>\n",
              "      <td>25.5</td>\n",
              "    </tr>\n",
              "    <tr>\n",
              "      <th>62</th>\n",
              "      <td>239.3</td>\n",
              "      <td>15.5</td>\n",
              "      <td>27.3</td>\n",
              "      <td>15.7</td>\n",
              "    </tr>\n",
              "  </tbody>\n",
              "</table>\n",
              "</div>\n",
              "    <div class=\"colab-df-buttons\">\n",
              "\n",
              "  <div class=\"colab-df-container\">\n",
              "    <button class=\"colab-df-convert\" onclick=\"convertToInteractive('df-d2f53195-f7f3-4444-8617-fa4edaf4c2d8')\"\n",
              "            title=\"Convert this dataframe to an interactive table.\"\n",
              "            style=\"display:none;\">\n",
              "\n",
              "  <svg xmlns=\"http://www.w3.org/2000/svg\" height=\"24px\" viewBox=\"0 -960 960 960\">\n",
              "    <path d=\"M120-120v-720h720v720H120Zm60-500h600v-160H180v160Zm220 220h160v-160H400v160Zm0 220h160v-160H400v160ZM180-400h160v-160H180v160Zm440 0h160v-160H620v160ZM180-180h160v-160H180v160Zm440 0h160v-160H620v160Z\"/>\n",
              "  </svg>\n",
              "    </button>\n",
              "\n",
              "  <style>\n",
              "    .colab-df-container {\n",
              "      display:flex;\n",
              "      gap: 12px;\n",
              "    }\n",
              "\n",
              "    .colab-df-convert {\n",
              "      background-color: #E8F0FE;\n",
              "      border: none;\n",
              "      border-radius: 50%;\n",
              "      cursor: pointer;\n",
              "      display: none;\n",
              "      fill: #1967D2;\n",
              "      height: 32px;\n",
              "      padding: 0 0 0 0;\n",
              "      width: 32px;\n",
              "    }\n",
              "\n",
              "    .colab-df-convert:hover {\n",
              "      background-color: #E2EBFA;\n",
              "      box-shadow: 0px 1px 2px rgba(60, 64, 67, 0.3), 0px 1px 3px 1px rgba(60, 64, 67, 0.15);\n",
              "      fill: #174EA6;\n",
              "    }\n",
              "\n",
              "    .colab-df-buttons div {\n",
              "      margin-bottom: 4px;\n",
              "    }\n",
              "\n",
              "    [theme=dark] .colab-df-convert {\n",
              "      background-color: #3B4455;\n",
              "      fill: #D2E3FC;\n",
              "    }\n",
              "\n",
              "    [theme=dark] .colab-df-convert:hover {\n",
              "      background-color: #434B5C;\n",
              "      box-shadow: 0px 1px 3px 1px rgba(0, 0, 0, 0.15);\n",
              "      filter: drop-shadow(0px 1px 2px rgba(0, 0, 0, 0.3));\n",
              "      fill: #FFFFFF;\n",
              "    }\n",
              "  </style>\n",
              "\n",
              "    <script>\n",
              "      const buttonEl =\n",
              "        document.querySelector('#df-d2f53195-f7f3-4444-8617-fa4edaf4c2d8 button.colab-df-convert');\n",
              "      buttonEl.style.display =\n",
              "        google.colab.kernel.accessAllowed ? 'block' : 'none';\n",
              "\n",
              "      async function convertToInteractive(key) {\n",
              "        const element = document.querySelector('#df-d2f53195-f7f3-4444-8617-fa4edaf4c2d8');\n",
              "        const dataTable =\n",
              "          await google.colab.kernel.invokeFunction('convertToInteractive',\n",
              "                                                    [key], {});\n",
              "        if (!dataTable) return;\n",
              "\n",
              "        const docLinkHtml = 'Like what you see? Visit the ' +\n",
              "          '<a target=\"_blank\" href=https://colab.research.google.com/notebooks/data_table.ipynb>data table notebook</a>'\n",
              "          + ' to learn more about interactive tables.';\n",
              "        element.innerHTML = '';\n",
              "        dataTable['output_type'] = 'display_data';\n",
              "        await google.colab.output.renderOutput(dataTable, element);\n",
              "        const docLink = document.createElement('div');\n",
              "        docLink.innerHTML = docLinkHtml;\n",
              "        element.appendChild(docLink);\n",
              "      }\n",
              "    </script>\n",
              "  </div>\n",
              "\n",
              "\n",
              "<div id=\"df-4438a186-20f0-4973-9eab-8f990e5e2fe7\">\n",
              "  <button class=\"colab-df-quickchart\" onclick=\"quickchart('df-4438a186-20f0-4973-9eab-8f990e5e2fe7')\"\n",
              "            title=\"Suggest charts\"\n",
              "            style=\"display:none;\">\n",
              "\n",
              "<svg xmlns=\"http://www.w3.org/2000/svg\" height=\"24px\"viewBox=\"0 0 24 24\"\n",
              "     width=\"24px\">\n",
              "    <g>\n",
              "        <path d=\"M19 3H5c-1.1 0-2 .9-2 2v14c0 1.1.9 2 2 2h14c1.1 0 2-.9 2-2V5c0-1.1-.9-2-2-2zM9 17H7v-7h2v7zm4 0h-2V7h2v10zm4 0h-2v-4h2v4z\"/>\n",
              "    </g>\n",
              "</svg>\n",
              "  </button>\n",
              "\n",
              "<style>\n",
              "  .colab-df-quickchart {\n",
              "      --bg-color: #E8F0FE;\n",
              "      --fill-color: #1967D2;\n",
              "      --hover-bg-color: #E2EBFA;\n",
              "      --hover-fill-color: #174EA6;\n",
              "      --disabled-fill-color: #AAA;\n",
              "      --disabled-bg-color: #DDD;\n",
              "  }\n",
              "\n",
              "  [theme=dark] .colab-df-quickchart {\n",
              "      --bg-color: #3B4455;\n",
              "      --fill-color: #D2E3FC;\n",
              "      --hover-bg-color: #434B5C;\n",
              "      --hover-fill-color: #FFFFFF;\n",
              "      --disabled-bg-color: #3B4455;\n",
              "      --disabled-fill-color: #666;\n",
              "  }\n",
              "\n",
              "  .colab-df-quickchart {\n",
              "    background-color: var(--bg-color);\n",
              "    border: none;\n",
              "    border-radius: 50%;\n",
              "    cursor: pointer;\n",
              "    display: none;\n",
              "    fill: var(--fill-color);\n",
              "    height: 32px;\n",
              "    padding: 0;\n",
              "    width: 32px;\n",
              "  }\n",
              "\n",
              "  .colab-df-quickchart:hover {\n",
              "    background-color: var(--hover-bg-color);\n",
              "    box-shadow: 0 1px 2px rgba(60, 64, 67, 0.3), 0 1px 3px 1px rgba(60, 64, 67, 0.15);\n",
              "    fill: var(--button-hover-fill-color);\n",
              "  }\n",
              "\n",
              "  .colab-df-quickchart-complete:disabled,\n",
              "  .colab-df-quickchart-complete:disabled:hover {\n",
              "    background-color: var(--disabled-bg-color);\n",
              "    fill: var(--disabled-fill-color);\n",
              "    box-shadow: none;\n",
              "  }\n",
              "\n",
              "  .colab-df-spinner {\n",
              "    border: 2px solid var(--fill-color);\n",
              "    border-color: transparent;\n",
              "    border-bottom-color: var(--fill-color);\n",
              "    animation:\n",
              "      spin 1s steps(1) infinite;\n",
              "  }\n",
              "\n",
              "  @keyframes spin {\n",
              "    0% {\n",
              "      border-color: transparent;\n",
              "      border-bottom-color: var(--fill-color);\n",
              "      border-left-color: var(--fill-color);\n",
              "    }\n",
              "    20% {\n",
              "      border-color: transparent;\n",
              "      border-left-color: var(--fill-color);\n",
              "      border-top-color: var(--fill-color);\n",
              "    }\n",
              "    30% {\n",
              "      border-color: transparent;\n",
              "      border-left-color: var(--fill-color);\n",
              "      border-top-color: var(--fill-color);\n",
              "      border-right-color: var(--fill-color);\n",
              "    }\n",
              "    40% {\n",
              "      border-color: transparent;\n",
              "      border-right-color: var(--fill-color);\n",
              "      border-top-color: var(--fill-color);\n",
              "    }\n",
              "    60% {\n",
              "      border-color: transparent;\n",
              "      border-right-color: var(--fill-color);\n",
              "    }\n",
              "    80% {\n",
              "      border-color: transparent;\n",
              "      border-right-color: var(--fill-color);\n",
              "      border-bottom-color: var(--fill-color);\n",
              "    }\n",
              "    90% {\n",
              "      border-color: transparent;\n",
              "      border-bottom-color: var(--fill-color);\n",
              "    }\n",
              "  }\n",
              "</style>\n",
              "\n",
              "  <script>\n",
              "    async function quickchart(key) {\n",
              "      const quickchartButtonEl =\n",
              "        document.querySelector('#' + key + ' button');\n",
              "      quickchartButtonEl.disabled = true;  // To prevent multiple clicks.\n",
              "      quickchartButtonEl.classList.add('colab-df-spinner');\n",
              "      try {\n",
              "        const charts = await google.colab.kernel.invokeFunction(\n",
              "            'suggestCharts', [key], {});\n",
              "      } catch (error) {\n",
              "        console.error('Error during call to suggestCharts:', error);\n",
              "      }\n",
              "      quickchartButtonEl.classList.remove('colab-df-spinner');\n",
              "      quickchartButtonEl.classList.add('colab-df-quickchart-complete');\n",
              "    }\n",
              "    (() => {\n",
              "      let quickchartButtonEl =\n",
              "        document.querySelector('#df-4438a186-20f0-4973-9eab-8f990e5e2fe7 button');\n",
              "      quickchartButtonEl.style.display =\n",
              "        google.colab.kernel.accessAllowed ? 'block' : 'none';\n",
              "    })();\n",
              "  </script>\n",
              "</div>\n",
              "\n",
              "    </div>\n",
              "  </div>\n"
            ],
            "application/vnd.google.colaboratory.intrinsic+json": {
              "type": "dataframe",
              "variable_name": "df_test",
              "summary": "{\n  \"name\": \"df_test\",\n  \"rows\": 60,\n  \"fields\": [\n    {\n      \"column\": \"TV\",\n      \"properties\": {\n        \"dtype\": \"number\",\n        \"std\": 90.33250042353727,\n        \"min\": 8.7,\n        \"max\": 296.4,\n        \"num_unique_values\": 60,\n        \"samples\": [\n          110.7,\n          13.1,\n          225.8\n        ],\n        \"semantic_type\": \"\",\n        \"description\": \"\"\n      }\n    },\n    {\n      \"column\": \"Radio\",\n      \"properties\": {\n        \"dtype\": \"number\",\n        \"std\": 15.146019969086096,\n        \"min\": 0.4,\n        \"max\": 48.9,\n        \"num_unique_values\": 57,\n        \"samples\": [\n          40.6,\n          0.4,\n          20.3\n        ],\n        \"semantic_type\": \"\",\n        \"description\": \"\"\n      }\n    },\n    {\n      \"column\": \"Newspaper\",\n      \"properties\": {\n        \"dtype\": \"number\",\n        \"std\": 22.307919515914772,\n        \"min\": 3.7,\n        \"max\": 93.625,\n        \"num_unique_values\": 58,\n        \"samples\": [\n          63.2,\n          25.6,\n          71.8\n        ],\n        \"semantic_type\": \"\",\n        \"description\": \"\"\n      }\n    },\n    {\n      \"column\": \"Sales\",\n      \"properties\": {\n        \"dtype\": \"number\",\n        \"std\": 4.764464743681635,\n        \"min\": 5.3,\n        \"max\": 26.2,\n        \"num_unique_values\": 48,\n        \"samples\": [\n          6.9,\n          13.6,\n          11.3\n        ],\n        \"semantic_type\": \"\",\n        \"description\": \"\"\n      }\n    }\n  ]\n}"
            }
          },
          "metadata": {},
          "execution_count": 73
        }
      ]
    },
    {
      "cell_type": "markdown",
      "source": [
        "**TRAIN ACCURACY**"
      ],
      "metadata": {
        "id": "cb4aosPKpl7e"
      }
    },
    {
      "cell_type": "markdown",
      "source": [
        "from sklearn.metrics\n",
        "\n",
        "import r2_score\n",
        "\n",
        "r2 = r2_score(df_test.Sales, df_test.Prediction)\n",
        "\n",
        "print('R2 score for model Performance on Test',\n",
        "\n",
        "np.round(r2,2))\n"
      ],
      "metadata": {
        "id": "e2ywIzyUp1pu"
      }
    },
    {
      "cell_type": "markdown",
      "source": [
        "* R2 score for model Performance on Test 0.85"
      ],
      "metadata": {
        "id": "177Sol_kp65k"
      }
    },
    {
      "cell_type": "markdown",
      "source": [
        "* Model is good fit on Train dataset & Performance of model on Test data is also good fit\n"
      ],
      "metadata": {
        "id": "75BJM1M2pzDv"
      }
    },
    {
      "cell_type": "code",
      "source": [
        "print(\"Accuracy Score: \", model.score(X_test,y_test)*100)"
      ],
      "metadata": {
        "colab": {
          "base_uri": "https://localhost:8080/"
        },
        "id": "HJ5Tu9H5qihB",
        "outputId": "2ab63a2d-7196-4037-f5fb-58997edb9d6a"
      },
      "execution_count": null,
      "outputs": [
        {
          "output_type": "stream",
          "name": "stdout",
          "text": [
            "Accuracy Score:  83.6800820009546\n"
          ]
        }
      ]
    },
    {
      "cell_type": "markdown",
      "source": [
        "# CONCLUSION"
      ],
      "metadata": {
        "id": "wg5pKS7HqTso"
      }
    },
    {
      "cell_type": "markdown",
      "source": [
        "* We can conclude that we understood the statistical technique and modelling preocedure for sales prediction dataset.\n",
        "\n",
        "* We predict 90 % accuracy on train dataset and 85 % accuracy on test dataset which is good fit.\n",
        "\n",
        "* TV marketing has highest impact on Sales compairing to Radio and Newspaper.\n",
        "\n",
        "* All assumptions of Linear Regression are working good in case of Sales Prediction."
      ],
      "metadata": {
        "id": "b_i1h5AyqVs5"
      }
    },
    {
      "cell_type": "markdown",
      "source": [
        "**THANK YOU OASIS INFOBYTE**"
      ],
      "metadata": {
        "id": "F-p-yTCbrWsF"
      }
    }
  ]
}